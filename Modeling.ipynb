{
 "cells": [
  {
   "cell_type": "code",
   "execution_count": 1,
   "metadata": {
    "collapsed": false
   },
   "outputs": [
    {
     "data": {
      "text/plain": [
       "'Notebook to demonstrate how to train scikit-learn models and use them to make predictions'"
      ]
     },
     "execution_count": 1,
     "metadata": {},
     "output_type": "execute_result"
    }
   ],
   "source": [
    "'''Notebook to demonstrate how to train scikit-learn models and use them to make predictions'''"
   ]
  },
  {
   "cell_type": "code",
   "execution_count": 15,
   "metadata": {
    "collapsed": false
   },
   "outputs": [
    {
     "data": {
      "text/html": [
       "<div>\n",
       "<table border=\"1\" class=\"dataframe\">\n",
       "  <thead>\n",
       "    <tr style=\"text-align: right;\">\n",
       "      <th></th>\n",
       "      <th>text</th>\n",
       "    </tr>\n",
       "    <tr>\n",
       "      <th>polarity</th>\n",
       "      <th></th>\n",
       "    </tr>\n",
       "  </thead>\n",
       "  <tbody>\n",
       "    <tr>\n",
       "      <th>0</th>\n",
       "      <td>513</td>\n",
       "    </tr>\n",
       "    <tr>\n",
       "      <th>4</th>\n",
       "      <td>487</td>\n",
       "    </tr>\n",
       "  </tbody>\n",
       "</table>\n",
       "</div>"
      ],
      "text/plain": [
       "          text\n",
       "polarity      \n",
       "0          513\n",
       "4          487"
      ]
     },
     "execution_count": 15,
     "metadata": {},
     "output_type": "execute_result"
    }
   ],
   "source": [
    "# As usual, read in data\n",
    "import pandas as pd\n",
    "df = pd.read_csv('sample_tweets.csv', encoding='iso-8859-1')\n",
    "\n",
    "# For demo purposes, let's take a smaller random subset\n",
    "subset = df.sample(n=1000)\n",
    "\n",
    "# Make sure we still have a reasonable distribution\n",
    "subset.groupby('polarity').count()"
   ]
  },
  {
   "cell_type": "code",
   "execution_count": 16,
   "metadata": {
    "collapsed": true
   },
   "outputs": [],
   "source": [
    "# Isolate target and tweets\n",
    "target = subset.polarity\n",
    "tweets = subset.text"
   ]
  },
  {
   "cell_type": "code",
   "execution_count": 120,
   "metadata": {
    "collapsed": false
   },
   "outputs": [],
   "source": [
    "# Exract features as before\n",
    "from stop_words import get_stop_words\n",
    "from sklearn.feature_extraction.text import CountVectorizer\n",
    "from sklearn.feature_extraction.text import TfidfTransformer\n",
    "\n",
    "mention = r'^(.*\\s)?@\\w+'\n",
    "hashtag = r'^(.*\\s)?#\\w+'\n",
    "url = r'^((http[s]?|ftp):\\/)?\\/?([^:\\/\\s]+)((\\/\\w+)*\\/)([\\w\\-\\.]+[^#?\\s]+)(.*)?(#[\\w\\-]+)?$'\n",
    "\n",
    "def extract_features(tweet_data):\n",
    "    stop_words = set(get_stop_words('en'))\n",
    "    \n",
    "    def preprocess(word):\n",
    "        return word.replace(mention, '').replace(hashtag, '').replace(url, '')\n",
    "    \n",
    "    # Get counts\n",
    "    word_vectorizer = CountVectorizer(ngram_range=(1, 3), analyzer='word', preprocessor=preprocess, stop_words=stop_words)\n",
    "    word_doc_matrix = word_vectorizer.fit_transform(tweet_data)\n",
    "    \n",
    "    # Get tf-idf\n",
    "    tfidf_transformer = TfidfTransformer(use_idf=True)\n",
    "    word_doc_tfidf_matrix = tfidf_transformer.fit_transform(word_doc_matrix)\n",
    "    return word_doc_tfidf_matrix, word_vectorizer, tfidf_transformer\n",
    "\n",
    "features, word_vectorizer, tfidf_transformer = extract_features(tweets)"
   ]
  },
  {
   "cell_type": "code",
   "execution_count": 23,
   "metadata": {
    "collapsed": false
   },
   "outputs": [],
   "source": [
    "# It's easy to build a model with scikit-learn \n",
    "from sklearn.naive_bayes import GaussianNB\n",
    "\n",
    "# The model\n",
    "model = GaussianNB()\n",
    "\n",
    "# Train the model to build a classifier\n",
    "classifier = model.fit(features.toarray(), target)"
   ]
  },
  {
   "cell_type": "code",
   "execution_count": 24,
   "metadata": {
    "collapsed": true
   },
   "outputs": [],
   "source": [
    "# Now let's take a tweet and make a prediction!\n",
    "# ---> Ask class to go on twitter and pick pos/neg/neutral tweet\n",
    "positive_tweet = 'I know its against the rules, but I wish Trump could be Prez for the rest of his life... then pass it on to one of his amazing kids!'\n",
    "negative_tweet = 'I found so many of Trumps comments to be deeply abhorrent'"
   ]
  },
  {
   "cell_type": "code",
   "execution_count": 125,
   "metadata": {
    "collapsed": true
   },
   "outputs": [],
   "source": [
    "# Create prediction function\n",
    "def predict_sentiment(clf, word_vec, tfidf, tweets):\n",
    "    # First we'll want to get the tweet into the same format\n",
    "    # as the features the model was trained on.\n",
    "    counts = word_vec.transform(tweets)\n",
    "    tfidfs = tfidf.transform(counts)\n",
    "    predictions = clf.predict(tfidfs.toarray())\n",
    "    return predictions"
   ]
  },
  {
   "cell_type": "code",
   "execution_count": 126,
   "metadata": {
    "collapsed": false
   },
   "outputs": [
    {
     "data": {
      "text/plain": [
       "4"
      ]
     },
     "execution_count": 126,
     "metadata": {},
     "output_type": "execute_result"
    }
   ],
   "source": [
    "predict_sentiment(classifier, word_vectorizer, tfidf_transformer, [positive_tweet])[0]"
   ]
  },
  {
   "cell_type": "code",
   "execution_count": 127,
   "metadata": {
    "collapsed": false
   },
   "outputs": [
    {
     "data": {
      "text/plain": [
       "0"
      ]
     },
     "execution_count": 127,
     "metadata": {},
     "output_type": "execute_result"
    }
   ],
   "source": [
    "predict_sentiment(classifier, word_vectorizer, tfidf_transformer, [negative_tweet])[0]"
   ]
  },
  {
   "cell_type": "code",
   "execution_count": 128,
   "metadata": {
    "collapsed": true
   },
   "outputs": [],
   "source": [
    "# Cool! It works! "
   ]
  },
  {
   "cell_type": "code",
   "execution_count": 129,
   "metadata": {
    "collapsed": false
   },
   "outputs": [
    {
     "data": {
      "text/html": [
       "<div>\n",
       "<table border=\"1\" class=\"dataframe\">\n",
       "  <thead>\n",
       "    <tr style=\"text-align: right;\">\n",
       "      <th></th>\n",
       "      <th>polarity</th>\n",
       "      <th>text</th>\n",
       "    </tr>\n",
       "  </thead>\n",
       "  <tbody>\n",
       "    <tr>\n",
       "      <th>297</th>\n",
       "      <td>0</td>\n",
       "      <td>@KourtneyKardash yup night workouts r the wors...</td>\n",
       "    </tr>\n",
       "    <tr>\n",
       "      <th>7696</th>\n",
       "      <td>4</td>\n",
       "      <td>@G2Trading Glad $YGE worked out for you! After...</td>\n",
       "    </tr>\n",
       "    <tr>\n",
       "      <th>2667</th>\n",
       "      <td>0</td>\n",
       "      <td>Is still sick, hate this</td>\n",
       "    </tr>\n",
       "    <tr>\n",
       "      <th>4098</th>\n",
       "      <td>0</td>\n",
       "      <td>wants gtalk on my phone..  haha.</td>\n",
       "    </tr>\n",
       "    <tr>\n",
       "      <th>5535</th>\n",
       "      <td>4</td>\n",
       "      <td>Lines, Vines, and Trying Times TODAY!!!!!</td>\n",
       "    </tr>\n",
       "    <tr>\n",
       "      <th>2343</th>\n",
       "      <td>0</td>\n",
       "      <td>finished everything she needs to do at work to...</td>\n",
       "    </tr>\n",
       "    <tr>\n",
       "      <th>7074</th>\n",
       "      <td>4</td>\n",
       "      <td>Ate lunch today with the mysterious karkumatka...</td>\n",
       "    </tr>\n",
       "    <tr>\n",
       "      <th>5268</th>\n",
       "      <td>4</td>\n",
       "      <td>@hollyhood Without a doubt</td>\n",
       "    </tr>\n",
       "    <tr>\n",
       "      <th>2578</th>\n",
       "      <td>0</td>\n",
       "      <td>@robertzalme Yes I do... Too much theory getti...</td>\n",
       "    </tr>\n",
       "    <tr>\n",
       "      <th>8290</th>\n",
       "      <td>4</td>\n",
       "      <td>@aquasulis i finally found a good image  which...</td>\n",
       "    </tr>\n",
       "  </tbody>\n",
       "</table>\n",
       "</div>"
      ],
      "text/plain": [
       "      polarity                                               text\n",
       "297          0  @KourtneyKardash yup night workouts r the wors...\n",
       "7696         4  @G2Trading Glad $YGE worked out for you! After...\n",
       "2667         0                          Is still sick, hate this \n",
       "4098         0                   wants gtalk on my phone..  haha.\n",
       "5535         4       Lines, Vines, and Trying Times TODAY!!!!!   \n",
       "2343         0  finished everything she needs to do at work to...\n",
       "7074         4  Ate lunch today with the mysterious karkumatka...\n",
       "5268         4                        @hollyhood Without a doubt \n",
       "2578         0  @robertzalme Yes I do... Too much theory getti...\n",
       "8290         4  @aquasulis i finally found a good image  which..."
      ]
     },
     "execution_count": 129,
     "metadata": {},
     "output_type": "execute_result"
    }
   ],
   "source": [
    "# But it's too difficult to manually go through a bunch of examples\n",
    "# and see if they make sense. We want to quickly assess model performance.\n",
    "# Let's take a sample of tweets from our data and make predictions on\n",
    "# them and see how closely they line up.\n",
    "test_tweets = df.sample(n=500)\n",
    "test_tweets.head(10)"
   ]
  },
  {
   "cell_type": "code",
   "execution_count": 130,
   "metadata": {
    "collapsed": false
   },
   "outputs": [
    {
     "data": {
      "text/plain": [
       "array([4, 0, 4, 0, 4, 0, 0, 0, 0, 4])"
      ]
     },
     "execution_count": 130,
     "metadata": {},
     "output_type": "execute_result"
    }
   ],
   "source": [
    "test_predictions = predict_sentiment(classifier, word_vectorizer, tfidf_transformer, test_tweets.text)\n",
    "test_predictions[:10]"
   ]
  },
  {
   "cell_type": "code",
   "execution_count": 131,
   "metadata": {
    "collapsed": false
   },
   "outputs": [
    {
     "data": {
      "text/plain": [
       "0.68999999999999995"
      ]
     },
     "execution_count": 131,
     "metadata": {},
     "output_type": "execute_result"
    }
   ],
   "source": [
    "# Model evaluation method 1: accuracy\n",
    "from sklearn.metrics import accuracy_score\n",
    "\n",
    "# Manually compute this on the top 10:\n",
    "# Number correct = 4\n",
    "# Total = 10\n",
    "# Accuracy = 4/10 = 0.4 = worse than guessing!\n",
    "\n",
    "accuracy_score(test_tweets.polarity, test_predictions)"
   ]
  },
  {
   "cell_type": "code",
   "execution_count": 132,
   "metadata": {
    "collapsed": false
   },
   "outputs": [
    {
     "data": {
      "text/plain": [
       "0.68419363122752952"
      ]
     },
     "execution_count": 132,
     "metadata": {},
     "output_type": "execute_result"
    }
   ],
   "source": [
    "# This is better than guessing, but not great. \n",
    "# But we don't have a lot of data at this point.\n",
    "# Models do tend to improve with more data. There\n",
    "# are also other metrics we can use -- like we \n",
    "# mentioned before, accuracy can sometimes be misleading.\n",
    "# Let's try AUC.\n",
    "from sklearn.metrics import roc_auc_score\n",
    "\n",
    "# AUC only accepts boolean attributes\n",
    "roc_auc_score(test_tweets.polarity == 4, test_predictions == 4)"
   ]
  },
  {
   "cell_type": "code",
   "execution_count": 133,
   "metadata": {
    "collapsed": false
   },
   "outputs": [
    {
     "name": "stdout",
     "output_type": "stream",
     "text": [
      "True positives: 208\n",
      "True negatives: 137\n",
      "False positives: 99\n",
      "False negatives: 56\n"
     ]
    }
   ],
   "source": [
    "# Confusion matrix\n",
    "from sklearn.metrics import confusion_matrix\n",
    "\n",
    "confusion_mat = confusion_matrix(test_tweets.polarity, test_predictions)\n",
    "\n",
    "# Number of true positives (they were happy, and we predicted happy)\n",
    "TP = confusion_mat[1][1]\n",
    "\n",
    "# Number of true negatives (they were not happy, and we predicted sad)\n",
    "TN = confusion_mat[0][0]\n",
    "\n",
    "# Number of false positives (they were sad, but we predicted happy)\n",
    "FP = confusion_mat[0][1]\n",
    "\n",
    "# Number of false negatives (they are happy, but we predicted sad)\n",
    "FN = confusion_mat[1][0]\n",
    "\n",
    "print('True positives:', TP)\n",
    "print('True negatives:', TN)\n",
    "print('False positives:', FP)\n",
    "print('False negatives:', FN)"
   ]
  },
  {
   "cell_type": "code",
   "execution_count": 134,
   "metadata": {
    "collapsed": false
   },
   "outputs": [
    {
     "data": {
      "text/plain": [
       "0.78787878787878785"
      ]
     },
     "execution_count": 134,
     "metadata": {},
     "output_type": "execute_result"
    }
   ],
   "source": [
    "# We are better at predicting happy than sad -- this is encoded by the TP rate\n",
    "# I.e., How often are we correct when the tweet is happy?\n",
    "TP_rate = TP / (TP + FN)\n",
    "TP_rate"
   ]
  },
  {
   "cell_type": "code",
   "execution_count": 135,
   "metadata": {
    "collapsed": false
   },
   "outputs": [
    {
     "data": {
      "text/plain": [
       "0.41949152542372881"
      ]
     },
     "execution_count": 135,
     "metadata": {},
     "output_type": "execute_result"
    }
   ],
   "source": [
    "# We are less good at predicting sad -- this is encoded by the FP rate\n",
    "# I.e., how often are we getting it wrong when the tweet is sad?\n",
    "FP_rate = FP / (TN + FP)\n",
    "FP_rate"
   ]
  },
  {
   "cell_type": "code",
   "execution_count": 136,
   "metadata": {
    "collapsed": false
   },
   "outputs": [
    {
     "data": {
      "text/plain": [
       "(array([ 0.        ,  0.41949153,  1.        ]),\n",
       " array([ 0.        ,  0.78787879,  1.        ]),\n",
       " 0.64460547504025756)"
      ]
     },
     "execution_count": 136,
     "metadata": {},
     "output_type": "execute_result"
    }
   ],
   "source": [
    "# Ideally, we want a TP_rate of 100% (i.e., we correctly predict all the ones that are happy)\n",
    "# and a FP rate of 0% (i.e, we are never wrong in our predictions when they are sad).\n",
    "# We can plot these two against each other -- TP rate on y-axis, and FP rate on x-axis.\n",
    "# If we want TP_rate = 1 and FP_rate = 0, that means the point on the top left of the chart is the ideal.\n",
    "\n",
    "# AUC = Area Under the Curve = area between top left point and bottom right point, i.e., the area of the chart.\n",
    "# We have an AUC of 1x1 = 1 units with a perfect classifier\n",
    "\n",
    "# Also want a steep curve, since we want to maximize TP_rate and minimize FP_rate.\n",
    "\n",
    "# The ROC curve is the name of the chart that plots TP_rate vs. FP_rate\n",
    "from sklearn.metrics import roc_curve\n",
    "\n",
    "import matplotlib.pyplot as plt\n",
    "%matplotlib inline\n",
    "\n",
    "fp_rate, tp_rate, _ = roc_curve(test_tweets.polarity == 4, test_predictions == 4)\n",
    "\n",
    "# Confirm what we had manually calculated\n",
    "fp_rate, tp_rate, auc"
   ]
  },
  {
   "cell_type": "code",
   "execution_count": 137,
   "metadata": {
    "collapsed": false
   },
   "outputs": [
    {
     "data": {
      "text/plain": [
       "[<matplotlib.lines.Line2D at 0x1177af588>]"
      ]
     },
     "execution_count": 137,
     "metadata": {},
     "output_type": "execute_result"
    },
    {
     "data": {
      "image/png": "[encoded data removed]",
      "text/plain": [
       "<matplotlib.figure.Figure at 0x113777f98>"
      ]
     },
     "metadata": {},
     "output_type": "display_data"
    }
   ],
   "source": [
    "# Plot \n",
    "plt.figure()\n",
    "plt.plot(fp_rate, tp_rate, color='darkorange')\n",
    "plt.plot([0,1], [0,1], color='navy', linestyle='--')"
   ]
  },
  {
   "cell_type": "code",
   "execution_count": 193,
   "metadata": {
    "collapsed": true
   },
   "outputs": [],
   "source": [
    "# Turn this into a function\n",
    "def plot_roc(pred, actual):\n",
    "    fp_rate, tp_rate, _ = roc_curve(pred == 4, actual == 4)\n",
    "    print('FP rate:', fp_rate)\n",
    "    print('TP rate:', tp_rate)\n",
    "    plt.figure()\n",
    "    plt.plot(fp_rate, tp_rate, color='darkorange')\n",
    "    plt.plot([0,1], [0,1], color='navy', linestyle='--')"
   ]
  },
  {
   "cell_type": "code",
   "execution_count": 138,
   "metadata": {
    "collapsed": true
   },
   "outputs": [],
   "source": [
    "# IF WE HAVE TIME: EXTRACTING PROBABILITIES AND LIFT CHART"
   ]
  },
  {
   "cell_type": "code",
   "execution_count": 139,
   "metadata": {
    "collapsed": true
   },
   "outputs": [],
   "source": [
    "# You can use other scikit-learn models in exactly the same way.\n",
    "# We briefly discussed the following:\n",
    "from sklearn import svm\n",
    "from sklearn.tree import DecisionTreeClassifier\n",
    "from sklearn.naive_bayes import GaussianNB, BernoulliNB\n",
    "\n",
    "# You should all start running decision trees and/or SVMs\n",
    "# as we go over the rest of the lecture, as they take a \n",
    "# bit of time to complete."
   ]
  },
  {
   "cell_type": "code",
   "execution_count": 140,
   "metadata": {
    "collapsed": true
   },
   "outputs": [],
   "source": [
    "# EVERYONE STOP! WE'VE MADE A HUGE MISTAKE!\n",
    "# Can anyone guess what it was?\n",
    "# (They should be able to; went over it in the lecture)"
   ]
  },
  {
   "cell_type": "code",
   "execution_count": 163,
   "metadata": {
    "collapsed": false
   },
   "outputs": [],
   "source": [
    "# We tested on our training data. We NEVER want to do this! \n",
    "# Instead, we want to use a holdout set or cross-validation\n",
    "# to assess model performance. This will give us a better\n",
    "# notion of how the model will perform out in the wild and\n",
    "# avoid overfitting (memorizing the data).\n",
    "\n",
    "## TODO: split into train/validation first"
   ]
  },
  {
   "cell_type": "code",
   "execution_count": 165,
   "metadata": {
    "collapsed": false
   },
   "outputs": [
    {
     "data": {
      "text/plain": [
       "(1000, 1000)"
      ]
     },
     "execution_count": 165,
     "metadata": {},
     "output_type": "execute_result"
    }
   ],
   "source": [
    "# Reindex data (we were using a subset, so indices will be messed up)\n",
    "tweets = pd.Series(list(tweets))\n",
    "target = pd.Series(list(target))\n",
    "tweets.size, target.size"
   ]
  },
  {
   "cell_type": "code",
   "execution_count": 166,
   "metadata": {
    "collapsed": false
   },
   "outputs": [],
   "source": [
    "# Let's partition our data into 5 different sections, or folds\n",
    "from sklearn.model_selection import KFold\n",
    "\n",
    "# This gives us the indices needed to split the actual data\n",
    "folds = KFold(n_splits=5).split(tweets)\n",
    "\n",
    "# Returns generator, so convert to list\n",
    "folds = list(folds)\n",
    "\n",
    "# For each fold, we're going to split our data into a training\n",
    "# set (on which we train the model), and a test set (on which\n",
    "# we test the model by making predictions)\n",
    "def split_data(train_folds, test_folds):\n",
    "    train_X = tweets[train_folds]\n",
    "    train_Y = target[train_folds]\n",
    "    test_X = tweets[test_folds]\n",
    "    test_Y = target[test_folds]\n",
    "    return train_X, train_Y, test_X, test_Y"
   ]
  },
  {
   "cell_type": "code",
   "execution_count": 167,
   "metadata": {
    "collapsed": false
   },
   "outputs": [
    {
     "data": {
      "text/plain": [
       "(800, 200)"
      ]
     },
     "execution_count": 167,
     "metadata": {},
     "output_type": "execute_result"
    }
   ],
   "source": [
    "# Let's look at an example\n",
    "train, test = folds[0]\n",
    "train.size, test.size"
   ]
  },
  {
   "cell_type": "code",
   "execution_count": 168,
   "metadata": {
    "collapsed": true
   },
   "outputs": [],
   "source": [
    "train_X, train_Y, test_X, test_Y = split_data(train, test)"
   ]
  },
  {
   "cell_type": "code",
   "execution_count": 169,
   "metadata": {
    "collapsed": false
   },
   "outputs": [],
   "source": [
    "assert train_X.size == train_Y.size"
   ]
  },
  {
   "cell_type": "code",
   "execution_count": 170,
   "metadata": {
    "collapsed": false
   },
   "outputs": [],
   "source": [
    "assert test_X.size == test_Y.size"
   ]
  },
  {
   "cell_type": "code",
   "execution_count": 177,
   "metadata": {
    "collapsed": false
   },
   "outputs": [
    {
     "data": {
      "text/plain": [
       "(200    Just checked my user timeline on my blackberry...\n",
       " 201    Dance Recitals are so stressing but I love eve...\n",
       " 202    Working at uni.. Red Bull and a packet of sult...\n",
       " 203    women who love power tools unite!!! Refinishin...\n",
       " 204    @Rockchic65 I normally go with pumpkin patch, ...\n",
       " 205    @yasminkaye Do it!! Don't be grumpy though, th...\n",
       " 206                                      C'mon sean man \n",
       " 207    To transcode a 100MB .wmv to a 100MB .flv file...\n",
       " 208    @meganh93 same it has been drizzling all day  ...\n",
       " 209    @huntermoore I don't want him to ever punch me.  \n",
       " dtype: object, 200    0\n",
       " 201    4\n",
       " 202    0\n",
       " 203    4\n",
       " 204    0\n",
       " 205    0\n",
       " 206    0\n",
       " 207    0\n",
       " 208    0\n",
       " 209    0\n",
       " dtype: int64)"
      ]
     },
     "execution_count": 177,
     "metadata": {},
     "output_type": "execute_result"
    }
   ],
   "source": [
    "train_X.head(10), train_Y.head(10)"
   ]
  },
  {
   "cell_type": "code",
   "execution_count": 194,
   "metadata": {
    "collapsed": true
   },
   "outputs": [],
   "source": [
    "# For each fold, we're going to train a model\n",
    "# on the training portion of the fold and then\n",
    "# test it on the testing portion of the fold.\n",
    "def train_and_test(model, train_X, train_Y, test_X, test_Y):\n",
    "    # Learn features from training data\n",
    "    train_features, word_vectorizer, tfidf_transformer = extract_features(train_X)\n",
    "    \n",
    "    # Train model and build classifier\n",
    "    clf = model().fit(train_features.toarray(), train_Y)\n",
    "    \n",
    "    # Make predictions\n",
    "    predictions = predict_sentiment(clf, word_vectorizer, tfidf_transformer, test_X)\n",
    "    \n",
    "    # Return score information\n",
    "    scores = {\n",
    "        'accuracy': accuracy_score(predictions, test_Y),\n",
    "        'auc': roc_auc_score(predictions == 4, test_Y == 4),\n",
    "        'roc_curve': roc_curve(predictions == 4, test_Y == 4),\n",
    "        'confusion': confusion_matrix(predictions, test_Y)\n",
    "    }\n",
    "    return scores, predictions"
   ]
  },
  {
   "cell_type": "code",
   "execution_count": 195,
   "metadata": {
    "collapsed": false
   },
   "outputs": [],
   "source": [
    "# Let's go through this procedure for one of the folds\n",
    "train_X, train_Y, test_X, test_Y = split_data(train, test)\n",
    "scores, predictions = train_and_test(GaussianNB, train_X, train_Y, test_X, test_Y)"
   ]
  },
  {
   "cell_type": "code",
   "execution_count": 196,
   "metadata": {
    "collapsed": false
   },
   "outputs": [
    {
     "data": {
      "text/plain": [
       "0.64500000000000002"
      ]
     },
     "execution_count": 196,
     "metadata": {},
     "output_type": "execute_result"
    }
   ],
   "source": [
    "scores['accuracy']"
   ]
  },
  {
   "cell_type": "code",
   "execution_count": 197,
   "metadata": {
    "collapsed": false
   },
   "outputs": [
    {
     "data": {
      "text/plain": [
       "0.64513061755580015"
      ]
     },
     "execution_count": 197,
     "metadata": {},
     "output_type": "execute_result"
    }
   ],
   "source": [
    "scores['auc']"
   ]
  },
  {
   "cell_type": "code",
   "execution_count": 199,
   "metadata": {
    "collapsed": false
   },
   "outputs": [
    {
     "name": "stdout",
     "output_type": "stream",
     "text": [
      "FP rate: [ 0.         0.3592233  1.       ]\n",
      "TP rate: [ 0.          0.64948454  1.        ]\n"
     ]
    },
    {
     "data": {
      "image/png": "[encoded data removed]",
      "text/plain": [
       "<matplotlib.figure.Figure at 0x112f44908>"
      ]
     },
     "metadata": {},
     "output_type": "display_data"
    }
   ],
   "source": [
    "plot_roc(predictions, test_Y)"
   ]
  },
  {
   "cell_type": "code",
   "execution_count": 203,
   "metadata": {
    "collapsed": false
   },
   "outputs": [
    {
     "name": "stdout",
     "output_type": "stream",
     "text": [
      "Average accuracy: 0.645\n"
     ]
    }
   ],
   "source": [
    "# Now we can repeat this for all folds.\n",
    "# Let's find the average accuracy across all folds\n",
    "fold_accuracies = []\n",
    "\n",
    "# For each fold\n",
    "for fold in folds:\n",
    "    # Get train/test partitions\n",
    "    train_X, train_Y, test_X, test_Y = split_data(train, test)\n",
    "    \n",
    "    # Train and test\n",
    "    scores, predictions = train_and_test(GaussianNB, train_X, train_Y, test_X, test_Y)\n",
    "    \n",
    "    fold_accuracies.append(scores['accuracy'])\n",
    "\n",
    "# Our classes are balanced so accuracy is an ok metric\n",
    "# However, we don't know the distribution of sentiment\n",
    "# in the wild, so we don't know if this is actually an\n",
    "# ok metric if we want to use the model to make predictions\n",
    "# in the wild.\n",
    "print('Average accuracy:', sum(fold_accuracies) / len(fold_accuracies))"
   ]
  },
  {
   "cell_type": "code",
   "execution_count": null,
   "metadata": {
    "collapsed": true
   },
   "outputs": [],
   "source": [
    "# DONE MODELING!\n",
    "# Now try this on your own with MORE data!"
   ]
  },
  {
   "cell_type": "code",
   "execution_count": 216,
   "metadata": {
    "collapsed": false
   },
   "outputs": [],
   "source": [
    "# PS - let's save our model and featurizers so we can use them later\n",
    "\n",
    "# Create wrapper class for model parts that we can pickle\n",
    "class Model:\n",
    "    def __init__(self, classifier, word_vectorizer, tfidf_transformer):\n",
    "        self.classifier = classifier\n",
    "        self.word_vectorizer = word_vectorizer\n",
    "        self.tfidf_transformer = tfidf_transformer\n",
    "    \n",
    "    def predict(self, tweets):\n",
    "      counts = self.word_vectorizer.transform(tweets)\n",
    "      tfidfs = self.tfidf.transform(counts)\n",
    "      predictions = self.classifier(tfidfs.toarray())\n",
    "      return predictions"
   ]
  },
  {
   "cell_type": "code",
   "execution_count": 217,
   "metadata": {
    "collapsed": false
   },
   "outputs": [],
   "source": [
    "gaussian_model = Model(classifier, word_vectorizer, tfidf_transformer)"
   ]
  },
  {
   "cell_type": "code",
   "execution_count": 218,
   "metadata": {
    "collapsed": false
   },
   "outputs": [],
   "source": [
    "# Pickle is an object serialization module that allows us to\n",
    "# serialize, or convert to a byte stream, a python object\n",
    "import pickle\n",
    "# pickle.dump(gaussian_model, open('models/gaussian_model.pkl', 'wb'))"
   ]
  },
  {
   "cell_type": "code",
   "execution_count": null,
   "metadata": {
    "collapsed": true
   },
   "outputs": [],
   "source": []
  }
 ],
 "metadata": {
  "anaconda-cloud": {},
  "kernelspec": {
   "display_name": "Python [default]",
   "language": "python",
   "name": "python3"
  },
  "language_info": {
   "codemirror_mode": {
    "name": "ipython",
    "version": 3
   },
   "file_extension": ".py",
   "mimetype": "text/x-python",
   "name": "python",
   "nbconvert_exporter": "python",
   "pygments_lexer": "ipython3",
   "version": "3.5.2"
  }
 },
 "nbformat": 4,
 "nbformat_minor": 1
}
