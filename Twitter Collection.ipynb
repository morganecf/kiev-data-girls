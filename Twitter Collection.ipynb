{
 "cells": [
  {
   "cell_type": "code",
   "execution_count": 1,
   "metadata": {
    "collapsed": false
   },
   "outputs": [
    {
     "data": {
      "text/plain": [
       "'Notebook to demonstrate how to collect tweets'"
      ]
     },
     "execution_count": 1,
     "metadata": {},
     "output_type": "execute_result"
    }
   ],
   "source": [
    "'''Notebook to demonstrate how to collect tweets'''"
   ]
  },
  {
   "cell_type": "code",
   "execution_count": 3,
   "metadata": {
    "collapsed": false
   },
   "outputs": [
    {
     "name": "stdout",
     "output_type": "stream",
     "text": [
      "Let's go!\n"
     ]
    }
   ],
   "source": [
    "'''\n",
    "There are two ways we can proceed here.\n",
    "\n",
    "1) If you have a twitter account and you want to create\n",
    "a personal developer account to get personal authentication\n",
    "tokens, go to apps.twitter.com to do so. You will have to\n",
    "make sure your phone number is associated with your twitter\n",
    "account.\n",
    "\n",
    "2) You use a shared twitter account with shared authentication\n",
    "tokens.\n",
    "\n",
    "Shared: https://apps.twitter.com/app/13096524/show\n",
    "--> Show which tokens are necessary\n",
    "\n",
    "Store these in a file called config.py.\n",
    "'''\n",
    "\n",
    "print(\"Let's go!\")"
   ]
  },
  {
   "cell_type": "code",
   "execution_count": 7,
   "metadata": {
    "collapsed": false
   },
   "outputs": [
    {
     "data": {
      "text/plain": [
       "['__builtins__',\n",
       " '__cached__',\n",
       " '__doc__',\n",
       " '__file__',\n",
       " '__loader__',\n",
       " '__name__',\n",
       " '__package__',\n",
       " '__spec__',\n",
       " 'access_secret',\n",
       " 'access_token',\n",
       " 'consumer_key',\n",
       " 'consumer_secret']"
      ]
     },
     "execution_count": 7,
     "metadata": {},
     "output_type": "execute_result"
    }
   ],
   "source": [
    "import config\n",
    "dir(config)"
   ]
  },
  {
   "cell_type": "code",
   "execution_count": 8,
   "metadata": {
    "collapsed": false
   },
   "outputs": [],
   "source": [
    "# We are going to be using a python wrapper around the Twitter API\n",
    "import tweepy"
   ]
  },
  {
   "cell_type": "code",
   "execution_count": 10,
   "metadata": {
    "collapsed": false
   },
   "outputs": [],
   "source": [
    "# Authenticate to Twitter API\n",
    "auth = tweepy.OAuthHandler(config.consumer_key, config.consumer_secret)\n",
    "auth.set_access_token(config.access_token, config.access_secret)"
   ]
  },
  {
   "cell_type": "code",
   "execution_count": 15,
   "metadata": {
    "collapsed": false
   },
   "outputs": [
    {
     "data": {
      "text/plain": [
       "['__class__',\n",
       " '__delattr__',\n",
       " '__dict__',\n",
       " '__dir__',\n",
       " '__doc__',\n",
       " '__eq__',\n",
       " '__format__',\n",
       " '__ge__',\n",
       " '__getattribute__',\n",
       " '__gt__',\n",
       " '__hash__',\n",
       " '__init__',\n",
       " '__le__',\n",
       " '__lt__',\n",
       " '__module__',\n",
       " '__ne__',\n",
       " '__new__',\n",
       " '__reduce__',\n",
       " '__reduce_ex__',\n",
       " '__repr__',\n",
       " '__setattr__',\n",
       " '__sizeof__',\n",
       " '__str__',\n",
       " '__subclasshook__',\n",
       " '__weakref__',\n",
       " '_add_list_members',\n",
       " '_lookup_friendships',\n",
       " '_lookup_users',\n",
       " '_pack_image',\n",
       " '_remove_list_members',\n",
       " '_statuses_lookup',\n",
       " 'add_list_member',\n",
       " 'add_list_members',\n",
       " 'api_root',\n",
       " 'auth',\n",
       " 'blocks',\n",
       " 'blocks_ids',\n",
       " 'cache',\n",
       " 'compression',\n",
       " 'configuration',\n",
       " 'create_block',\n",
       " 'create_favorite',\n",
       " 'create_friendship',\n",
       " 'create_list',\n",
       " 'create_saved_search',\n",
       " 'destroy_block',\n",
       " 'destroy_direct_message',\n",
       " 'destroy_favorite',\n",
       " 'destroy_friendship',\n",
       " 'destroy_list',\n",
       " 'destroy_saved_search',\n",
       " 'destroy_status',\n",
       " 'direct_messages',\n",
       " 'favorites',\n",
       " 'followers',\n",
       " 'followers_ids',\n",
       " 'friends',\n",
       " 'friends_ids',\n",
       " 'friendships_incoming',\n",
       " 'friendships_outgoing',\n",
       " 'geo_id',\n",
       " 'geo_search',\n",
       " 'geo_similar_places',\n",
       " 'get_direct_message',\n",
       " 'get_list',\n",
       " 'get_oembed',\n",
       " 'get_saved_search',\n",
       " 'get_settings',\n",
       " 'get_status',\n",
       " 'get_user',\n",
       " 'home_timeline',\n",
       " 'host',\n",
       " 'list_members',\n",
       " 'list_subscribers',\n",
       " 'list_timeline',\n",
       " 'lists_all',\n",
       " 'lists_memberships',\n",
       " 'lists_subscriptions',\n",
       " 'lookup_friendships',\n",
       " 'lookup_users',\n",
       " 'me',\n",
       " 'media_upload',\n",
       " 'mentions_timeline',\n",
       " 'parser',\n",
       " 'proxy',\n",
       " 'rate_limit_status',\n",
       " 'related_results',\n",
       " 'remove_list_member',\n",
       " 'remove_list_members',\n",
       " 'report_spam',\n",
       " 'retry_count',\n",
       " 'retry_delay',\n",
       " 'retry_errors',\n",
       " 'retweet',\n",
       " 'retweeters',\n",
       " 'retweets',\n",
       " 'retweets_of_me',\n",
       " 'reverse_geocode',\n",
       " 'saved_searches',\n",
       " 'search',\n",
       " 'search_host',\n",
       " 'search_root',\n",
       " 'search_users',\n",
       " 'send_direct_message',\n",
       " 'sent_direct_messages',\n",
       " 'set_delivery_device',\n",
       " 'set_settings',\n",
       " 'show_friendship',\n",
       " 'show_list_member',\n",
       " 'show_list_subscriber',\n",
       " 'statuses_lookup',\n",
       " 'subscribe_list',\n",
       " 'suggested_categories',\n",
       " 'suggested_users',\n",
       " 'suggested_users_tweets',\n",
       " 'supported_languages',\n",
       " 'timeout',\n",
       " 'trends_available',\n",
       " 'trends_closest',\n",
       " 'trends_place',\n",
       " 'unsubscribe_list',\n",
       " 'update_list',\n",
       " 'update_profile',\n",
       " 'update_profile_background_image',\n",
       " 'update_profile_banner',\n",
       " 'update_profile_colors',\n",
       " 'update_profile_image',\n",
       " 'update_status',\n",
       " 'update_with_media',\n",
       " 'upload_host',\n",
       " 'upload_root',\n",
       " 'user_timeline',\n",
       " 'verify_credentials',\n",
       " 'wait_on_rate_limit',\n",
       " 'wait_on_rate_limit_notify']"
      ]
     },
     "execution_count": 15,
     "metadata": {},
     "output_type": "execute_result"
    }
   ],
   "source": [
    "# Get API object\n",
    "api = tweepy.API(auth)\n",
    "\n",
    "# We can do tons of things with it!\n",
    "dir(api)"
   ]
  },
  {
   "cell_type": "code",
   "execution_count": 17,
   "metadata": {
    "collapsed": false
   },
   "outputs": [
    {
     "name": "stdout",
     "output_type": "stream",
     "text": [
      "Newtown families seek to reinstate lawsuit against gun maker https://t.co/rDYNH1XBbo https://t.co/2RAb9l9Sx2\n",
      "RT @DoubleXMag: Gwen Ifill exposed the stupidity and racism of anti-P.C. activism long before Trump: https://t.co/4FtSlESsKp https://t.co/M…\n",
      "This is a good example of how “voted for Obama twice” ≠ “race wasn’t a factor in 2016 vote.” Politics is *political… https://t.co/WrTk0eHya1\n",
      "RT @AdamWeinstein: \"I can't wait to shoot one of these burka bitches.\" Government of the George Zimmermans, by the George Zimmermans, for t…\n",
      "These People Watched The Moon Landing On Live TV, And Their Stories Are Incredible https://t.co/PsiuPTeiml\n",
      "House Democrats’ coming leadership fight, explained https://t.co/qoeRRSsQsf\n",
      "Why Nancy Pelosi’s job is at risk https://t.co/noMzvMCkWD\n",
      "Five students stabbed at Utah high school, teen suspect in custody https://t.co/2kyYHzlagz https://t.co/fZ3l7jjKRG\n",
      "GE acquires Wise.io to deepen its machine learning stack https://t.co/fMsFsVwfGM https://t.co/11nrF5h6o0\n",
      "This piece is a long and involved read but I hope you'll invest in it - it will change how you think about tech on a global scale.\n",
      "The ways that colonialism is exercised+functions through tech + data collection/ownership is massively covered up, erased, hidden + ignored.\n",
      "I have a GED. I am divorced. I got married in 1972. I get to work around 6:00am. I had less than 2 weeks off last year. I drive by myself.\n",
      "More Democrats should be talking like Harry Reid right now: https://t.co/0vAMTsKMr4 https://t.co/qZwXQwuMDe\n",
      "RT @davidfrum: An early Trump era causality: the US-German partnership. Me in @TheAtlantic today https://t.co/Lt5PAJiCRk\n",
      "Important read on technology colonialism. \n",
      "\n",
      "https://t.co/cYyTt6YTaz\n",
      "American leadership in Europe has been horribly damaged https://t.co/gSOr7lryMB https://t.co/qKWBClktru\n",
      "A Catholic priest is under investigation for displaying aborted fetus in pro-Trump video https://t.co/ybKGPTAc4J https://t.co/1gLsgUmpz2\n",
      "RT @ModelViewMedia: Data Colonialism: Critiquing Consent and Control in “Tech for Social Change” https://t.co/Pwjzr1qt3j\n",
      "How did Donald Trump win over so many Obama voters? https://t.co/oxbqPTlriy https://t.co/IypYyUQGqr\n"
     ]
    }
   ],
   "source": [
    "# Let's get public tweets from our timeline\n",
    "public_tweets = api.home_timeline()\n",
    "for tweet in public_tweets:\n",
    "    print(tweet.text)"
   ]
  },
  {
   "cell_type": "code",
   "execution_count": 26,
   "metadata": {
    "collapsed": false
   },
   "outputs": [
    {
     "data": {
      "text/plain": [
       "Status(source='kiev-data-girls', in_reply_to_user_id=None, in_reply_to_user_id_str=None, created_at=datetime.datetime(2016, 11, 15, 18, 34, 42), in_reply_to_status_id=None, source_url='http://www.kievdatagirls.com', id_str='798595094349627392', contributors=None, geo=None, text='wtf!!', favorited=False, in_reply_to_screen_name=None, retweet_count=0, coordinates=None, in_reply_to_status_id_str=None, _json={'source': '<a href=\"http://www.kievdatagirls.com\" rel=\"nofollow\">kiev-data-girls</a>', 'in_reply_to_user_id': None, 'in_reply_to_user_id_str': None, 'created_at': 'Tue Nov 15 18:34:42 +0000 2016', 'in_reply_to_status_id': None, 'retweeted': False, 'contributors': None, 'geo': None, 'text': 'wtf!!', 'favorited': False, 'in_reply_to_screen_name': None, 'retweet_count': 0, 'coordinates': None, 'in_reply_to_status_id_str': None, 'truncated': False, 'entities': {'symbols': [], 'user_mentions': [], 'urls': [], 'hashtags': []}, 'lang': 'und', 'user': {'listed_count': 0, 'profile_sidebar_border_color': 'DFDFDF', 'follow_request_sent': False, 'profile_background_image_url_https': 'https://pbs.twimg.com/profile_background_images/541989170135040000/QmRKQrGY.jpeg', 'created_at': 'Thu Jun 11 23:54:54 +0000 2009', 'profile_background_image_url': 'http://pbs.twimg.com/profile_background_images/541989170135040000/QmRKQrGY.jpeg', 'has_extended_profile': False, 'location': '', 'default_profile': False, 'screen_name': 'morganecf', 'is_translator': False, 'default_profile_image': False, 'time_zone': 'Central Time (US & Canada)', 'friends_count': 195, 'profile_sidebar_fill_color': 'F3F3F3', 'id': 46526752, 'profile_background_tile': True, 'translator_type': 'none', 'geo_enabled': False, 'statuses_count': 309, 'profile_background_color': 'EBEBEB', 'following': False, 'notifications': False, 'contributors_enabled': False, 'profile_link_color': '990000', 'name': 'Morgane Ciot', 'favourites_count': 40, 'entities': {'description': {'urls': []}}, 'utc_offset': -21600, 'profile_use_background_image': True, 'description': 'ludic pixie waking nightmare girl', 'profile_image_url': 'http://pbs.twimg.com/profile_images/2838645665/7d21829914523c66605dc07108d7be18_normal.jpeg', 'is_translation_enabled': False, 'lang': 'en', 'url': None, 'profile_image_url_https': 'https://pbs.twimg.com/profile_images/2838645665/7d21829914523c66605dc07108d7be18_normal.jpeg', 'followers_count': 79, 'id_str': '46526752', 'protected': False, 'verified': False, 'profile_text_color': '333333'}, 'is_quote_status': False, 'id_str': '798595094349627392', 'favorite_count': 0, 'place': None, 'id': 798595094349627392}, truncated=False, _api=<tweepy.api.API object at 0x104e4d588>, author=User(listed_count=0, profile_sidebar_border_color='DFDFDF', entities={'description': {'urls': []}}, created_at=datetime.datetime(2009, 6, 11, 23, 54, 54), follow_request_sent=False, profile_background_tile=True, profile_image_url='http://pbs.twimg.com/profile_images/2838645665/7d21829914523c66605dc07108d7be18_normal.jpeg', friends_count=195, profile_sidebar_fill_color='F3F3F3', default_profile_image=False, lang='en', following=False, notifications=False, _json={'listed_count': 0, 'profile_sidebar_border_color': 'DFDFDF', 'follow_request_sent': False, 'profile_background_image_url_https': 'https://pbs.twimg.com/profile_background_images/541989170135040000/QmRKQrGY.jpeg', 'created_at': 'Thu Jun 11 23:54:54 +0000 2009', 'profile_background_image_url': 'http://pbs.twimg.com/profile_background_images/541989170135040000/QmRKQrGY.jpeg', 'has_extended_profile': False, 'location': '', 'default_profile': False, 'screen_name': 'morganecf', 'is_translator': False, 'default_profile_image': False, 'time_zone': 'Central Time (US & Canada)', 'friends_count': 195, 'profile_sidebar_fill_color': 'F3F3F3', 'id': 46526752, 'profile_background_tile': True, 'translator_type': 'none', 'geo_enabled': False, 'statuses_count': 309, 'profile_background_color': 'EBEBEB', 'following': False, 'notifications': False, 'contributors_enabled': False, 'profile_link_color': '990000', 'name': 'Morgane Ciot', 'favourites_count': 40, 'entities': {'description': {'urls': []}}, 'utc_offset': -21600, 'profile_use_background_image': True, 'description': 'ludic pixie waking nightmare girl', 'profile_image_url': 'http://pbs.twimg.com/profile_images/2838645665/7d21829914523c66605dc07108d7be18_normal.jpeg', 'is_translation_enabled': False, 'lang': 'en', 'url': None, 'profile_image_url_https': 'https://pbs.twimg.com/profile_images/2838645665/7d21829914523c66605dc07108d7be18_normal.jpeg', 'followers_count': 79, 'id_str': '46526752', 'protected': False, 'verified': False, 'profile_text_color': '333333'}, geo_enabled=False, verified=False, location='', is_translation_enabled=False, url=None, profile_background_image_url_https='https://pbs.twimg.com/profile_background_images/541989170135040000/QmRKQrGY.jpeg', protected=False, profile_text_color='333333', profile_background_image_url='http://pbs.twimg.com/profile_background_images/541989170135040000/QmRKQrGY.jpeg', has_extended_profile=False, screen_name='morganecf', is_translator=False, time_zone='Central Time (US & Canada)', id=46526752, _api=<tweepy.api.API object at 0x104e4d588>, statuses_count=309, profile_background_color='EBEBEB', contributors_enabled=False, name='Morgane Ciot', profile_link_color='990000', default_profile=False, utc_offset=-21600, favourites_count=40, translator_type='none', profile_use_background_image=True, profile_image_url_https='https://pbs.twimg.com/profile_images/2838645665/7d21829914523c66605dc07108d7be18_normal.jpeg', followers_count=79, id_str='46526752', description='ludic pixie waking nightmare girl'), lang='und', id=798595094349627392, favorite_count=0, user=User(listed_count=0, profile_sidebar_border_color='DFDFDF', entities={'description': {'urls': []}}, created_at=datetime.datetime(2009, 6, 11, 23, 54, 54), follow_request_sent=False, profile_background_tile=True, profile_image_url='http://pbs.twimg.com/profile_images/2838645665/7d21829914523c66605dc07108d7be18_normal.jpeg', friends_count=195, profile_sidebar_fill_color='F3F3F3', default_profile_image=False, lang='en', following=False, notifications=False, _json={'listed_count': 0, 'profile_sidebar_border_color': 'DFDFDF', 'follow_request_sent': False, 'profile_background_image_url_https': 'https://pbs.twimg.com/profile_background_images/541989170135040000/QmRKQrGY.jpeg', 'created_at': 'Thu Jun 11 23:54:54 +0000 2009', 'profile_background_image_url': 'http://pbs.twimg.com/profile_background_images/541989170135040000/QmRKQrGY.jpeg', 'has_extended_profile': False, 'location': '', 'default_profile': False, 'screen_name': 'morganecf', 'is_translator': False, 'default_profile_image': False, 'time_zone': 'Central Time (US & Canada)', 'friends_count': 195, 'profile_sidebar_fill_color': 'F3F3F3', 'id': 46526752, 'profile_background_tile': True, 'translator_type': 'none', 'geo_enabled': False, 'statuses_count': 309, 'profile_background_color': 'EBEBEB', 'following': False, 'notifications': False, 'contributors_enabled': False, 'profile_link_color': '990000', 'name': 'Morgane Ciot', 'favourites_count': 40, 'entities': {'description': {'urls': []}}, 'utc_offset': -21600, 'profile_use_background_image': True, 'description': 'ludic pixie waking nightmare girl', 'profile_image_url': 'http://pbs.twimg.com/profile_images/2838645665/7d21829914523c66605dc07108d7be18_normal.jpeg', 'is_translation_enabled': False, 'lang': 'en', 'url': None, 'profile_image_url_https': 'https://pbs.twimg.com/profile_images/2838645665/7d21829914523c66605dc07108d7be18_normal.jpeg', 'followers_count': 79, 'id_str': '46526752', 'protected': False, 'verified': False, 'profile_text_color': '333333'}, geo_enabled=False, verified=False, location='', is_translation_enabled=False, url=None, profile_background_image_url_https='https://pbs.twimg.com/profile_background_images/541989170135040000/QmRKQrGY.jpeg', protected=False, profile_text_color='333333', profile_background_image_url='http://pbs.twimg.com/profile_background_images/541989170135040000/QmRKQrGY.jpeg', has_extended_profile=False, screen_name='morganecf', is_translator=False, time_zone='Central Time (US & Canada)', id=46526752, _api=<tweepy.api.API object at 0x104e4d588>, statuses_count=309, profile_background_color='EBEBEB', contributors_enabled=False, name='Morgane Ciot', profile_link_color='990000', default_profile=False, utc_offset=-21600, favourites_count=40, translator_type='none', profile_use_background_image=True, profile_image_url_https='https://pbs.twimg.com/profile_images/2838645665/7d21829914523c66605dc07108d7be18_normal.jpeg', followers_count=79, id_str='46526752', description='ludic pixie waking nightmare girl'), is_quote_status=False, entities={'symbols': [], 'user_mentions': [], 'urls': [], 'hashtags': []}, place=None, retweeted=False)"
      ]
     },
     "execution_count": 26,
     "metadata": {},
     "output_type": "execute_result"
    }
   ],
   "source": [
    "# If we have write permissions (we should), then we can do stuff like:\n",
    "status = api.update_status('hello!!')\n",
    "status"
   ]
  },
  {
   "cell_type": "code",
   "execution_count": null,
   "metadata": {
    "collapsed": true
   },
   "outputs": [],
   "source": [
    "# We want to grab a bunch of public tweets \n",
    "# We do this through a stream.\n"
   ]
  }
 ],
 "metadata": {
  "anaconda-cloud": {},
  "kernelspec": {
   "display_name": "Python [default]",
   "language": "python",
   "name": "python3"
  },
  "language_info": {
   "codemirror_mode": {
    "name": "ipython",
    "version": 3
   },
   "file_extension": ".py",
   "mimetype": "text/x-python",
   "name": "python",
   "nbconvert_exporter": "python",
   "pygments_lexer": "ipython3",
   "version": "3.5.2"
  }
 },
 "nbformat": 4,
 "nbformat_minor": 1
}
