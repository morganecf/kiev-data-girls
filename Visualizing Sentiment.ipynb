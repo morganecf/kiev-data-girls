{
 "cells": [
  {
   "cell_type": "code",
   "execution_count": 1,
   "metadata": {
    "collapsed": false
   },
   "outputs": [
    {
     "data": {
      "text/plain": [
       "'Notebook to demonstrate how to visualize sentiment over time'"
      ]
     },
     "execution_count": 1,
     "metadata": {},
     "output_type": "execute_result"
    }
   ],
   "source": [
    "'''Notebook to demonstrate how to visualize sentiment over time'''"
   ]
  },
  {
   "cell_type": "code",
   "execution_count": null,
   "metadata": {
    "collapsed": true
   },
   "outputs": [],
   "source": [
    "# TODO -- we'll ingest data, predict, show sentiment across time in pandas,\n",
    "# and then format data into json so we can use d3 to visualize it.\n",
    "\n",
    "# TODO -- might want to have legit, good, pretrained model for this that's\n",
    "# run beforehand so that girls don't have to wait a bunch\n",
    "\n",
    "## TODO -- realtime prediction"
   ]
  }
 ],
 "metadata": {
  "kernelspec": {
   "display_name": "Python [default]",
   "language": "python",
   "name": "python3"
  },
  "language_info": {
   "codemirror_mode": {
    "name": "ipython",
    "version": 3
   },
   "file_extension": ".py",
   "mimetype": "text/x-python",
   "name": "python",
   "nbconvert_exporter": "python",
   "pygments_lexer": "ipython3",
   "version": "3.5.2"
  }
 },
 "nbformat": 4,
 "nbformat_minor": 1
}
