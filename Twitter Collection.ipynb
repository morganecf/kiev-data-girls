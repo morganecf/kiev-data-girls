{
 "cells": [
  {
   "cell_type": "code",
   "execution_count": 1,
   "metadata": {
    "collapsed": false
   },
   "outputs": [
    {
     "data": {
      "text/plain": [
       "'Notebook to demonstrate how to collect tweets'"
      ]
     },
     "execution_count": 1,
     "metadata": {},
     "output_type": "execute_result"
    }
   ],
   "source": [
    "'''Notebook to demonstrate how to collect tweets'''"
   ]
  },
  {
   "cell_type": "code",
   "execution_count": 2,
   "metadata": {
    "collapsed": false
   },
   "outputs": [
    {
     "name": "stdout",
     "output_type": "stream",
     "text": [
      "Let's go!\n"
     ]
    }
   ],
   "source": [
    "'''\n",
    "There are two ways we can proceed here.\n",
    "\n",
    "1) If you have a twitter account and you want to create\n",
    "a personal developer account to get personal authentication\n",
    "tokens, go to apps.twitter.com to do so. You will have to\n",
    "make sure your phone number is associated with your twitter\n",
    "account.\n",
    "\n",
    "2) You use a shared twitter account with shared authentication\n",
    "tokens.\n",
    "\n",
    "Shared: https://apps.twitter.com/app/13096524/show\n",
    "--> Show which tokens are necessary\n",
    "\n",
    "Store these in a file called config.py.\n",
    "\n",
    "TODO: rate-limiting, licenses, fair use, robots.txt, etc.\n",
    "'''\n",
    "\n",
    "print(\"Let's go!\")"
   ]
  },
  {
   "cell_type": "code",
   "execution_count": 3,
   "metadata": {
    "collapsed": false
   },
   "outputs": [
    {
     "data": {
      "text/plain": [
       "['__builtins__',\n",
       " '__cached__',\n",
       " '__doc__',\n",
       " '__file__',\n",
       " '__loader__',\n",
       " '__name__',\n",
       " '__package__',\n",
       " '__spec__',\n",
       " 'access_secret',\n",
       " 'access_token',\n",
       " 'consumer_key',\n",
       " 'consumer_secret']"
      ]
     },
     "execution_count": 3,
     "metadata": {},
     "output_type": "execute_result"
    }
   ],
   "source": [
    "import config\n",
    "dir(config)"
   ]
  },
  {
   "cell_type": "code",
   "execution_count": 4,
   "metadata": {
    "collapsed": false
   },
   "outputs": [],
   "source": [
    "# We are going to be using a python wrapper around the Twitter API\n",
    "# Makes it easy to access twitter data/functionality by handling\n",
    "# authentication and creating a session.\n",
    "import tweepy"
   ]
  },
  {
   "cell_type": "code",
   "execution_count": 5,
   "metadata": {
    "collapsed": false
   },
   "outputs": [],
   "source": [
    "# Authenticate to Twitter API\n",
    "auth = tweepy.OAuthHandler(config.consumer_key, config.consumer_secret)\n",
    "auth.set_access_token(config.access_token, config.access_secret)"
   ]
  },
  {
   "cell_type": "code",
   "execution_count": 6,
   "metadata": {
    "collapsed": false
   },
   "outputs": [
    {
     "data": {
      "text/plain": [
       "['__class__',\n",
       " '__delattr__',\n",
       " '__dict__',\n",
       " '__dir__',\n",
       " '__doc__',\n",
       " '__eq__',\n",
       " '__format__',\n",
       " '__ge__',\n",
       " '__getattribute__',\n",
       " '__gt__',\n",
       " '__hash__',\n",
       " '__init__',\n",
       " '__le__',\n",
       " '__lt__',\n",
       " '__module__',\n",
       " '__ne__',\n",
       " '__new__',\n",
       " '__reduce__',\n",
       " '__reduce_ex__',\n",
       " '__repr__',\n",
       " '__setattr__',\n",
       " '__sizeof__',\n",
       " '__str__',\n",
       " '__subclasshook__',\n",
       " '__weakref__',\n",
       " '_add_list_members',\n",
       " '_lookup_friendships',\n",
       " '_lookup_users',\n",
       " '_pack_image',\n",
       " '_remove_list_members',\n",
       " '_statuses_lookup',\n",
       " 'add_list_member',\n",
       " 'add_list_members',\n",
       " 'api_root',\n",
       " 'auth',\n",
       " 'blocks',\n",
       " 'blocks_ids',\n",
       " 'cache',\n",
       " 'compression',\n",
       " 'configuration',\n",
       " 'create_block',\n",
       " 'create_favorite',\n",
       " 'create_friendship',\n",
       " 'create_list',\n",
       " 'create_saved_search',\n",
       " 'destroy_block',\n",
       " 'destroy_direct_message',\n",
       " 'destroy_favorite',\n",
       " 'destroy_friendship',\n",
       " 'destroy_list',\n",
       " 'destroy_saved_search',\n",
       " 'destroy_status',\n",
       " 'direct_messages',\n",
       " 'favorites',\n",
       " 'followers',\n",
       " 'followers_ids',\n",
       " 'friends',\n",
       " 'friends_ids',\n",
       " 'friendships_incoming',\n",
       " 'friendships_outgoing',\n",
       " 'geo_id',\n",
       " 'geo_search',\n",
       " 'geo_similar_places',\n",
       " 'get_direct_message',\n",
       " 'get_list',\n",
       " 'get_oembed',\n",
       " 'get_saved_search',\n",
       " 'get_settings',\n",
       " 'get_status',\n",
       " 'get_user',\n",
       " 'home_timeline',\n",
       " 'host',\n",
       " 'list_members',\n",
       " 'list_subscribers',\n",
       " 'list_timeline',\n",
       " 'lists_all',\n",
       " 'lists_memberships',\n",
       " 'lists_subscriptions',\n",
       " 'lookup_friendships',\n",
       " 'lookup_users',\n",
       " 'me',\n",
       " 'media_upload',\n",
       " 'mentions_timeline',\n",
       " 'parser',\n",
       " 'proxy',\n",
       " 'rate_limit_status',\n",
       " 'related_results',\n",
       " 'remove_list_member',\n",
       " 'remove_list_members',\n",
       " 'report_spam',\n",
       " 'retry_count',\n",
       " 'retry_delay',\n",
       " 'retry_errors',\n",
       " 'retweet',\n",
       " 'retweeters',\n",
       " 'retweets',\n",
       " 'retweets_of_me',\n",
       " 'reverse_geocode',\n",
       " 'saved_searches',\n",
       " 'search',\n",
       " 'search_host',\n",
       " 'search_root',\n",
       " 'search_users',\n",
       " 'send_direct_message',\n",
       " 'sent_direct_messages',\n",
       " 'set_delivery_device',\n",
       " 'set_settings',\n",
       " 'show_friendship',\n",
       " 'show_list_member',\n",
       " 'show_list_subscriber',\n",
       " 'statuses_lookup',\n",
       " 'subscribe_list',\n",
       " 'suggested_categories',\n",
       " 'suggested_users',\n",
       " 'suggested_users_tweets',\n",
       " 'supported_languages',\n",
       " 'timeout',\n",
       " 'trends_available',\n",
       " 'trends_closest',\n",
       " 'trends_place',\n",
       " 'unsubscribe_list',\n",
       " 'update_list',\n",
       " 'update_profile',\n",
       " 'update_profile_background_image',\n",
       " 'update_profile_banner',\n",
       " 'update_profile_colors',\n",
       " 'update_profile_image',\n",
       " 'update_status',\n",
       " 'update_with_media',\n",
       " 'upload_host',\n",
       " 'upload_root',\n",
       " 'user_timeline',\n",
       " 'verify_credentials',\n",
       " 'wait_on_rate_limit',\n",
       " 'wait_on_rate_limit_notify']"
      ]
     },
     "execution_count": 6,
     "metadata": {},
     "output_type": "execute_result"
    }
   ],
   "source": [
    "# Get API object\n",
    "api = tweepy.API(auth)\n",
    "\n",
    "# We can do tons of things with it!\n",
    "dir(api)"
   ]
  },
  {
   "cell_type": "code",
   "execution_count": 7,
   "metadata": {
    "collapsed": false
   },
   "outputs": [
    {
     "name": "stdout",
     "output_type": "stream",
     "text": [
      "RT @allegrakirkland: MSNBC's Stephanie Ruhle tells Rep. Steve King (R-IA) that US has always been a country of immigrants. He says this. ht…\n",
      "Steve King offers bizarre defense of Bannon's \"liberal dykes\" comment (VIDEO) https://t.co/RMC73FAhJ6 https://t.co/FlMohoMS9X\n",
      "Trump's EPA pick says pesticides aren't bad for you https://t.co/kRfspjgvk2 https://t.co/1ME0GzCs2M\n",
      "Inefficient: This Man Is Using Two Lit Torches In Broad Daylight https://t.co/x0VncyI3q0\n",
      "The Electoral College is an instrument of white supremacy—and sexism: https://t.co/oLPTxoNTOF https://t.co/Q9DpzWh7mk\n",
      "Today's morning cartoon by David Sipress. See more cartoons with our randomizer: https://t.co/Xaucr97vln https://t.co/qVnIhzlSS5\n",
      "Harry Reid told Donald Trump to \"rise to the dignity of the office” by firing Steve Bannon https://t.co/UM2kqOWqxU https://t.co/K8eRX1L5Ca\n",
      "RT @ollie: chess makes its debut on fivethirtyeight's sports podcast—live from #CarlsenKarjakin in lower manhattan: https://t.co/tWaseyLu7V\n",
      "Shortcomings of #DeepLearning by CEO of Allen #AI Oren @etzioni - you cannot play 20 Questions w. Nature &amp; win!… https://t.co/JH2Bqpw3n7\n",
      "'Public displays of working' on social media are part humblebrag, part cry for help https://t.co/MbcV2Lqbv0 https://t.co/EQeMa8vBP6\n",
      "Republicans stole the Supreme Court. Democrats, don’t let them get away with it. https://t.co/87EADOKAJh https://t.co/UKDsN7iaLC\n",
      "Watch: Anna Kendrick sings Sondheim’s most exhausted survival anthem, \"I’m Still Here\" https://t.co/mdfTgLPpuS\n",
      "Senate Dems select Chuck Schumer to lead them after Reid retires https://t.co/FuvLZJ0dKD https://t.co/GYvAiLk24X\n",
      "RT @keithboykin: That time when Rudy Giuliani said there was no repression under Haitian dictator Jean-Claude Duvalier. https://t.co/TmJWqp…\n",
      "RT @DHSvMacLean: TSA Chief Counsel has been protecting bad bosses for 15 years—she allowed inane \"scanner opt-out,\" @TSA is worst post-9/11…\n",
      "RT @aaronzitner: Lindsey Graham calls for Senate investigation into whether Russia hacked DNC, affected US election.  https://t.co/bBuVLhIs…\n",
      "Twitter suspends alt-right accounts, promises tools to fight abuse https://t.co/7hpAqDN4Dm https://t.co/D9aEWwiHWt\n",
      "RT @motherboard: A bug let a hacker write on whatever Medium page he wanted—including the one for the White House https://t.co/214Z9aCMoH h…\n",
      "LGBTQ rights will suffer under Trump, but marriage isn’t the biggest concern: https://t.co/xfYJQFyiKN https://t.co/gTUNiGdfTL\n",
      "Ivanka Trump's jewelry company apologizes for promoting bracelet she wore in first post-election interview… https://t.co/T55X65KMCX\n"
     ]
    }
   ],
   "source": [
    "# Let's get public tweets from our timeline\n",
    "public_tweets = api.home_timeline()\n",
    "for tweet in public_tweets:\n",
    "    print(tweet.text)"
   ]
  },
  {
   "cell_type": "code",
   "execution_count": 8,
   "metadata": {
    "collapsed": false
   },
   "outputs": [],
   "source": [
    "# If we have write permissions (we should), then we can do stuff like:\n",
    "# status = api.update_status('hello!!')"
   ]
  },
  {
   "cell_type": "code",
   "execution_count": 9,
   "metadata": {
    "collapsed": true
   },
   "outputs": [],
   "source": [
    "# We want to grab a bunch of public tweets \n",
    "# We do this through a stream. The Twitter\n",
    "# streaming API is used to download realtime\n",
    "# messages. NOT the REST API. REST API == pull\n",
    "# data from Twitter. Streaming API == pushes\n",
    "# messages to obtain data. A tweepy Stream takes\n",
    "# a StreamListener insteance, which receives \n",
    "# messages from the stream and triggers certain\n",
    "# functions based on the message type."
   ]
  },
  {
   "cell_type": "code",
   "execution_count": 10,
   "metadata": {
    "collapsed": true
   },
   "outputs": [],
   "source": [
    "# Create custom stream listener\n",
    "class MyStreamListener(tweepy.StreamListener):\n",
    "    def on_status(self, status):\n",
    "        print(status.text)\n",
    "\n",
    "stream_listener = MyStreamListener()"
   ]
  },
  {
   "cell_type": "code",
   "execution_count": 11,
   "metadata": {
    "collapsed": false
   },
   "outputs": [],
   "source": [
    "# Create a stream\n",
    "stream = tweepy.Stream(auth=api.auth, listener=stream_listener)"
   ]
  },
  {
   "cell_type": "code",
   "execution_count": 12,
   "metadata": {
    "collapsed": false
   },
   "outputs": [
    {
     "name": "stdout",
     "output_type": "stream",
     "text": [
      "Big Cats and Confidence https://t.co/HW0Zhs98QB\n",
      "犬が大切そうにおやつやおもちゃを隠すのってなぜ？それって問題？！\n",
      "\n",
      "https://t.co/gyooOVazSe\n",
      "Me gustó un video de @YouTube https://t.co/pl47Dr9SNW CATS REACT TO VIRAL VIDEOS\n",
      "So happy to hear this https://t.co/P6SpoIz3PG\n",
      "RT @catgirl321: I SO agree *nodding*\n",
      "Please RT if you do too🐾\n",
      "#weeti #cats #rescue\n",
      "Pic courtesy of The Foundation for Homeless Cats \n",
      "https:…\n",
      "RT @ziyadxd: Dogs vs Cats https://t.co/g5CMUAsLA6\n"
     ]
    }
   ],
   "source": [
    "# Filter stream for a certain word. This will\n",
    "# pick up all tweets that contain the word \"cats\".\n",
    "# Use async to automatically run a new thread\n",
    "# if the stream gets blocked.\n",
    "stream.filter(track=['cats'], async=True)"
   ]
  },
  {
   "cell_type": "code",
   "execution_count": 13,
   "metadata": {
    "collapsed": false
   },
   "outputs": [
    {
     "data": {
      "text/plain": [
       "True"
      ]
     },
     "execution_count": 13,
     "metadata": {},
     "output_type": "execute_result"
    }
   ],
   "source": [
    "# Check to see we're running\n",
    "stream.running"
   ]
  },
  {
   "cell_type": "code",
   "execution_count": 14,
   "metadata": {
    "collapsed": false
   },
   "outputs": [
    {
     "name": "stdout",
     "output_type": "stream",
     "text": [
      "RT @NorthParkSanta: My friends at @northparkcenter sent me this photo of the Bark + Build Dog Houses benefiting sweet dogs &amp; cats at th… \n"
     ]
    }
   ],
   "source": [
    "# Stop the stream\n",
    "stream.disconnect()"
   ]
  },
  {
   "cell_type": "code",
   "execution_count": 15,
   "metadata": {
    "collapsed": false
   },
   "outputs": [
    {
     "data": {
      "text/plain": [
       "False"
      ]
     },
     "execution_count": 15,
     "metadata": {},
     "output_type": "execute_result"
    }
   ],
   "source": [
    "# We should no longer be listening for events\n",
    "stream.running"
   ]
  },
  {
   "cell_type": "code",
   "execution_count": 16,
   "metadata": {
    "collapsed": true
   },
   "outputs": [],
   "source": [
    "# Let's classify sentiment on these tweets"
   ]
  },
  {
   "cell_type": "code",
   "execution_count": 17,
   "metadata": {
    "collapsed": true
   },
   "outputs": [],
   "source": [
    "# Pickle is an object serialization module that allows us to\n",
    "# serialize, or convert to a byte stream, a python object.\n",
    "import pickle"
   ]
  },
  {
   "cell_type": "code",
   "execution_count": 18,
   "metadata": {
    "collapsed": false
   },
   "outputs": [],
   "source": [
    "# Let's load some pretrained models that have been pickled.\n",
    "import model\n",
    "\n",
    "gaussian_nb_model = pickle.load(open('gaussian_naive_bayes.pkl', 'rb'))\n",
    "bernoulli_nb_model = pickle.load(open('bernoulli_naive_bayes.pkl', 'rb'))\n",
    "# svm_model = pickle.load(open('svm.pkl', 'rb'))\n",
    "# decision_tree = pickle.load(open('decision_tree.pkl', 'rb'))"
   ]
  },
  {
   "cell_type": "code",
   "execution_count": 22,
   "metadata": {
    "collapsed": false
   },
   "outputs": [
    {
     "data": {
      "text/plain": [
       "4"
      ]
     },
     "execution_count": 22,
     "metadata": {},
     "output_type": "execute_result"
    }
   ],
   "source": [
    "gaussian_nb_model.predict(['I feel so happy right now!'])[0]"
   ]
  },
  {
   "cell_type": "code",
   "execution_count": 23,
   "metadata": {
    "collapsed": false
   },
   "outputs": [
    {
     "data": {
      "text/plain": [
       "0"
      ]
     },
     "execution_count": 23,
     "metadata": {},
     "output_type": "execute_result"
    }
   ],
   "source": [
    "gaussian_nb_model.predict(['I hate life'])[0]"
   ]
  },
  {
   "cell_type": "code",
   "execution_count": 33,
   "metadata": {
    "collapsed": true
   },
   "outputs": [],
   "source": [
    "class MyStreamListener(tweepy.StreamListener):\n",
    "    def on_status(self, status):\n",
    "        tweet = status.text\n",
    "        GNB_pred = gaussian_nb_model.predict([tweet])[0]\n",
    "        BNB_pred = bernoulli_nb_model.predict([tweet])[0]\n",
    "        print(tweet, GNB_pred, BNB_pred)\n",
    "\n",
    "# We'll call this to start collecting tweets\n",
    "def start(query):\n",
    "    stream.filter(track=[query], async=True)\n",
    "\n",
    "def stop():\n",
    "    stream.disconnect()\n",
    "\n",
    "# Create new stream with updated listener\n",
    "stream_listener = MyStreamListener()\n",
    "stream = tweepy.Stream(auth=api.auth, listener=stream_listener)"
   ]
  },
  {
   "cell_type": "code",
   "execution_count": 34,
   "metadata": {
    "collapsed": false
   },
   "outputs": [
    {
     "name": "stdout",
     "output_type": "stream",
     "text": [
      "RT @brendaoncats: Another chance!  10 m BLUE JAY CALM WHEN PICKED UP, LOVES AND SEEKS ATTENTION!  #NYC #cats #KITTENS…  0 0\n",
      "@WindleBeth and not just coz i want to see a numbat letting fly at a bunch of feral cats with a hand-cranked Gatling gun. well mainly that. 0 0\n",
      "RT @pet_home_office: 「期限11月24日迄！助けて下さい！②」山口県 - 猫の里親募集情報(136780) :: ペットのおうち https://t.co/cmYLAvx7l3 4 4\n",
      "RT @Dansgaming: You don't need to buy Ubisoft's new game to have fun with it, Just go to the local pet shop, you can stare at some cats and… 0 4\n",
      "RT @NoGaschamberJP: 🔴WE WANT #1MILLIONSIGNATURES \n",
      "🐱🐶🐱🐶🐱🐶\n",
      "#END_ANIMAL_DISPOSAL_ JAPAN💔💔💔\n",
      "✅https://t.co/xPHzn8ebDI\n",
      "#Team_Akai_Shippo…  0 4\n",
      "Kentucky: Young Olympian McLaughlin to Commit to Cats https://t.co/hTD7sdoDnB 4 4\n",
      "RT @palay_kymberly: 25 Crazy Facts You Didn't Know You Wanted To Know About Cats And How Amazing They Are..!! https://t.co/2kJiztP6G9 4 4\n",
      "RT @pet_home_office: 「期限11月24日迄！助けて下さい！①」山口県 - 猫の里親募集情報(136779) :: ペットのおうち https://t.co/KNub0ghhyg 4 4\n",
      "@ColleenB123 Cats are the cure for happiness! 🐱💗 https://t.co/kbSh4QhhXR 4 4\n",
      "RT @Uber_Pix: Cats will be cats no matter what size. https://t.co/Cu69eoHHBA 4 4\n",
      "RT @palay_kymberly: 25 Crazy Facts You Didn't Know You Wanted To Know About Cats And How Amazing They Are..!! https://t.co/2kJiztP6G9 4 4\n",
      "RT @brendaoncats: Wonderful HOWARD is a great cat who survived a lot &amp; has another chance!  RT-SHARE-PLEDGE-FOSTER-ADOPT! #NYC #CATS…  0 4\n",
      "RT @palay_kymberly: 25 Crazy Facts You Didn't Know You Wanted To Know About Cats And How Amazing They Are..!! https://t.co/2kJiztP6G9 4 4\n",
      "NJ could be first state to make declawing cats illegal https://t.co/1i7efXBdVY 0 4\n",
      "RT @MSE_Deals: ⚠ IMPORTANT⚠ These flea drops may cause “severe or fatal” poisoning in cats. Full product recall info:…  0 0\n",
      "CATS ARE BEAUTIFUL ND AMAZING ND AAAHHHHHH https://t.co/RorhNSBTVP 0 4\n",
      "RT @palay_kymberly: 25 Crazy Facts You Didn't Know You Wanted To Know About Cats And How Amazing They Are..!! https://t.co/2kJiztP6G9 4 4\n",
      "The regal one sat it just the right light this morning. #Cats #catsofinstagram #kittens #k… …                https://t.co/d1unxr3LIe 0 4\n",
      "@POTUS It's you who started this massacre in Aleppo,YOU!Those cats and dog just wanted love and food,they don't understand politics! Murder! 0 0\n",
      "RT @Uber_Pix: Cats will be cats no matter what size. https://t.co/Cu69eoHHBA 4 4\n",
      "RT @AlmostHome_Dog: #NorthWales lovely Lady Lou is enjoying life in foster #Whippet cross 💜Good with dogs &amp; cats 🐱🐶…  0 4\n",
      "RT @palay_kymberly: 25 Crazy Facts You Didn't Know You Wanted To Know About Cats And How Amazing They Are..!! https://t.co/2kJiztP6G9 4 4\n",
      "@the_cats_mum Too bad,erm...Mrs. Cats..:-) 0 0\n",
      "RT @pet_home_office: 「【11/20銀座会場】けなげなにゃんこ♪やっくん」東京都 - 猫の里親募集情報(136777) :: ペットのおうち https://t.co/FdJxVEXEsA 0 4\n",
      "RT @totalrolleigns: Alexa is obviously tired of hearing about Natties cats lol https://t.co/dDm2fu7VXE 0 0\n"
     ]
    }
   ],
   "source": [
    "start('cats')"
   ]
  },
  {
   "cell_type": "code",
   "execution_count": 35,
   "metadata": {
    "collapsed": false
   },
   "outputs": [],
   "source": [
    "stop()"
   ]
  },
  {
   "cell_type": "code",
   "execution_count": 36,
   "metadata": {
    "collapsed": false
   },
   "outputs": [
    {
     "name": "stdout",
     "output_type": "stream",
     "text": [
      "RT @dcexaminer: Eric Trump: More administration appointments 'likely' to be revealed Wednesday https://t.co/4CHTUGhClh https://t.co/x30Wzih… 4 4\n",
      "RT @iglvzx: Me: I hate video games.\n",
      "Trump: I hate video games.\n",
      "Me:\n",
      "@ILLCapitano94 https://t.co/uN91newvTi 4 4\n",
      "RT @adv_project: Voter suppression helped make Donald Trump president — now he’ll make it worse https://t.co/mvPMmHCxV0 4 4\n",
      "RT @latimes: Trump used to rail against drug prices. Now the industry's allies are helping shape his agenda…  0 0\n",
      "And don't his paid ties to Milosovich's #1 henchman, \"The Undertaker\" during Serbia's genocide of Bosnian Muslims.… https://t.co/XjDPuzj18r 0 4\n",
      "Hedge fund playbook for Trump is to bet on rising rates, buy banks, biotech https://t.co/oKIZHJOw3k 4 4\n",
      "RT @rcabrero75: Monserrat pone de Jefa de gabinete a Militante del Opus ultracatolica y antiabortista. Si lo hace Trump se escandal…  4 4\n",
      "RT @NomasLaPuntica_: Odian a Trump por hablar mal de los latinos y querer deportarlos, pero viven diciéndole a los \"provincianos\" que se de… 4 4\n",
      "RT @KevinRandall5: The blue is where Hillary won the popular vote. The red is where Trump won the popular vote.\n",
      "THAT is the reason for…  4 4\n",
      "@SopanDeb  My exurban nail lady who voted for Trump to me yesterday, \"I think I might have made a mistake voting Trump\" 4 4\n",
      "RT @Independent: Dictionary reveals most looked up words since Trump's win - and it's terrifying https://t.co/sI7qrcOhcH 4 4\n",
      "RT @ChristiChat: A hard fact for the left to grasp:\n",
      "\n",
      "America indiscriminately voted for #TRUMP, the BEST person to be President, ove…  4 4\n",
      "RT @AriMelber: The best evidence Trump did not expect to win is?... 4 4\n",
      "RT @PrisonPlanet: Report: Anti-Trump Protesters Block Ambulance; Father of 4-Year-Old Girl Dies - https://t.co/Jbfs3BQCu1 https://t.co/f2pH… 4 4\n",
      "100% https://t.co/UW6SJukL1P 0 4\n",
      "RT @DanteAtkins: Well, I liked Obama, but then he said it wasn't okay to murder innocent black kids, and well, then I had to vote fo…  4 4\n",
      "Lol....Ask Hillary And George Soros !  Harry Reid on Trump: People Now Wondering if Racism, Sexual Assault Normal… https://t.co/Ow5ZZW48uw 4 4\n",
      "RT @NakatomiTim: Theory: w/o Real World, reality TV wouldn't exist &amp; we wouldn't have Trump president. MTV really did ruin America. Took 30… 4 4\n",
      "RT dangillmor: Trump: not normal. This is just part of a beyond-disturbing list: https://t.co/7PpCrqLWeN  Even a … https://t.co/Cx63UUYbaP 4 4\n",
      "RT @thinkprogress: The internet in Trump’s nation\n",
      "https://t.co/qxdzL7loDm https://t.co/XsUaG94Jvf 0 4\n",
      "RT @EjeCentral: #LoMasLeido Trump apunta a TLCAN desde DÍA 1 de gobierno filtran borrador de la transición  https://t.co/7LTxaNVOBS  https:… 4 4\n",
      "RT @Doogi_: Melania Trump is sticking to script… Literally. https://t.co/DUHMNKvxYh 0 4\n",
      "RT @PolitiFact: Trump tweets New York Times apologized for 'bad coverage' of him. False.\n",
      "\n",
      "https://t.co/ia0adVloBx 4 4\n",
      "What happened to the #draintheswamp promise? #businessasusual https://t.co/rYzcSWnxe8 0 4\n",
      "I think i'm racist against Trump supporters! 4 4\n",
      "RT @SandraTXAS: Billionaire Soros https://t.co/lM1jCRULoI linked to anti-Trump protests - WikiLeaks\n",
      "#TrumpNarratesPlanetEarth\n",
      "#MAGA https:/… 4 4\n",
      "#MTVStarsBritneySpears https://t.co/KW0euIxNUi 4 4\n",
      "A lot of old ideas reappearing very quickly in the wake of Trump's victory. https://t.co/ewmJB3Y8wV 4 4\n",
      "In spite of everything that has happened, the IRS continues to abuse Conservative groups! Heads will roll, right Mr. Trump? 4 4\n",
      "Ben Carson turned down Trump's offer for a spot in his cabinet because he \"has no government experience\", but he ran for president 🤔 4 4\n",
      "RT @OurRevolution2: No, Trump Didn’t Kill the TPP — Progressives Did https://t.co/ZcmRs57AcG 4 4\n",
      "RT @washingtonpost: Giuliani says Trump can’t do a blind trust because it \"would basically put his children out of work\"\n",
      "https://t.co/PUX3U… 4 4\n",
      "@scottjohnson I wish my differences with Trump supporters was simply political. I could deal with that. It's the misogyny and racism. 0 0\n",
      "RT @crowleys_tailor: This, too. The PCA's are produced by this shit stain. https://t.co/JtyBAjzVOE 0 4\n",
      "RT @FreedomofPress: 7. Trump's wife Melania Trump has threatened to sue at least nine news orgs, and actually filed a lawsuit against the D… 4 4\n",
      "Excuse me, but there is nothing racist or inherently wrong with these headlines https://t.co/Sr6YTNCRjs 0 4\n",
      "RT @RUINER: Simpsons always predicting everything  #Trump https://t.co/e0IU6Y8aCg 0 4\n",
      "RT @Breaking911: Trump supporter arrives at anti-Trump protest in Gainesville, Florida.\n",
      "\n",
      "https://t.co/syoWbdmoV8 4 4\n",
      "RT @KellyannePolls: #poll facts: Trump got more votes from people of color than Romney did. Here's the data. https://t.co/GSq79lC1Oo 4 4\n",
      "RT @funder: 38 f*cking pgs on Trumps Russia Ties. RT if u give a sh*t...\n",
      "\n",
      "#DworkinReport #StopBannon #ThxBirthControl #diversity https://t.… 0 4\n",
      "RT @JohnSkylar: You know, I'm going to RT this, because if anything could lead to a Trump impeachment, it's this. https://t.co/ImPjoQYwa0 4 4\n",
      "Com assessor de Trump, a extrema-direita chega à Casa Branca https://t.co/xRWttQq1kE https://t.co/r1ugc2Ewgr 4 4\n",
      "RT @n_neofotistos: #TrumpPresident #trump #Τραμπ https://t.co/LOsMBgtTUm 4 4\n",
      "Topping my Tweeted Times: How Bannon flattered and coaxed Trump on policies key… https://t.co/jObaFigqS0, see more https://t.co/iQhBghHW83 0 4\n",
      "RT @FashionConscBtc: Angry DNC staffer at DONNA BRAZILE, blaming her for the LOSS OF THE ELECTION to TRUMP at the First Staff DNC Meetin…  0 4\n",
      "RT @RealJamesWoods: As Trump Leaves Press Behind for Steak Dinner ...the press that vilified him whines... https://t.co/ScEIdGjUP6 4 4\n",
      "RT @SethMacFarlane: Dear people who spent eight years demonizing Obama at every turn and are now tweeting me to \"give Trump a chance\" on da… 0 0\n",
      "Black Trump supporter is told \"Niggas like you should be KILLED\" HOLLYWOOD CA Nov 5th https://t.co/eLiG4koeEN 4 4\n",
      "RT @immigrant4trump: THE TRUMP EFFECT: Ford Is Already Shifting Truck Production From Mexico TO OHIO #Trump #Maga https://t.co/J9Dp9XynoF 4 4\n",
      "RT @nytimes: With Trump's signature, dozens of President Obama's rules on health care and environmental safety could be undone…  0 4\n",
      "TOP 9 MUROS DE DONALD TRUMP CON CHICA GAMER Y PASA HILARY https://t.co/xA0IYmajVs vía @YouTube 0 4\n",
      "RT @ObamaMalik: CORRUPT &amp; DISHONEST NEW YORK TIMES!!!  https://t.co/zJigm3nDhs 4 4\n",
      "RT @Julie_rodgers: \"Watching 81% of my white brothers and sisters vote for Trump has broken something in me\" @YNPierce https://t.co/aqddKAy… 4 4\n",
      "RT @nevesytrof: The Trump bullies are certainly whining and screaming today. Means shining light on their evil works, keep doing it. 4 4\n",
      "RT @mattmfm: Trump has now tweeted 18 times since the election.\n",
      "\n",
      "Of those tweets, one third have been attacks on the media for simply repor… 0 0\n",
      "Day 8 https://t.co/NBK2m42ifx 4 4\n",
      "RT @SenWhitehouse: If you think Trump's hires mean his administration will look out for all Americans, think again. He said he'd #drainthes… 4 4\n",
      "RT @ZeddRebel: Putin's bombed 3 hospitals in Syria since he and Trump agreed yesterday to 'cooperate' against 'terrorism.' Hospitals. Just… 4 4\n",
      "RT @JasonBiggs: My dog just took a huge poop on the sidewalk and before I had a chance to pick it up it was named to Trump's cabinet. 0 0\n",
      "\"Trump Says Transition’s Going ‘Smoothly,’ Disputing Disarray Reports\" by MICHAEL D. SHEAR via NYT The New York Ti… https://t.co/nTAvgAlx3P 4 4\n",
      "RT @PrisonPlanet: Trump was right to decry hate crimes &amp; racism, especially given that they are all directed towards HIS supporters. https:… 4 4\n",
      "RT @AIIAmericanGirI: NYC Mulls Deleting Illegal Alien Database to Stop Trump\n",
      "https://t.co/3q16dhqgDY 4 4\n",
      "#EMABiggestFansLadyGaga https://t.co/eMavFauTcA 4 4\n",
      "RT @tylercreighton: Blackburn joins Reps. Gowdy, Katko, Perry, Jones and Harris as GOP members of Congress supporting campaign finance…  4 4\n",
      "RT @paradexes: That was pretty funny. @CNN @MSNBC in particular fucked the dog on this one. They deserve all the shade they get on…  0 4\n",
      "RT @_Proud_American: Soros Led Anti-Trump \"Protest\" Results in Death of Father of a 4 Year Old https://t.co/kjpqpCpcdH 4 4\n",
      "RT @brianefallon: Trump is obliterating more norms than protective pool. Public deserves a media that is calling Trump out on all fronts, n… 4 4\n",
      "RT @brianefallon: Trump is obliterating more norms than protective pool. Public deserves a media that is calling Trump out on all fronts, n… 4 4\n",
      "RT @dabeard: Latest popular vote totals: \n",
      "\n",
      "Clinton: 62,403,469\n",
      "#Trump: 61,242,652\n",
      "\n",
      "https://t.co/wqw1TWRGVe via @Redistrict Carto…  4 4\n",
      "RT @brianbeutler: We already have evidence of more corruption in six days of the Trump transition than in eight years of Obama’s actual pre… 4 4\n",
      "RT @edroso: This is an unfortunate way to open a pitch for conservatives to serve the Trump Administration. https://t.co/WblWpN7e8k 4 4\n",
      "@andriusdaulys Not sure whether that last RT was serious, but that map is definitely fake: https://t.co/vDFPXoJF5n 0 0\n",
      "RT @SebGorka: Can you say: \"MANDATE!\"\n",
      "\n",
      "https://t.co/f9GkRjGsCV https://t.co/7cBGHPYUKk 0 4\n",
      "RT @KamVTV: Do you need some play dough @NBCNews because big bad Trump wanted dinner with family and not you? 😫…  4 4\n",
      "@DenverOilGuy https://t.co/aeoa47f6Xm 4 4\n",
      "RT @RT_com: 'He will see the benefits' - Saudi Arabia warns Trump against stopping oil imports https://t.co/Y0Djm1NEjB 4 4\n",
      "RT @awprokop: Here's how the day went for the Trump transition: https://t.co/XGV41WgvZj 4 4\n",
      "RT @ThePlumLineGS: \"Democrats' cultural overreach caused backlash that got Trump elected\" is the new \"Trump voters are motivated only by ec… 4 4\n",
      "RT @mischakaplan: I've gotta say: I really do love some of the economic policies being advocated by @MaximeBernier #cdnpoli https://t.co/U7… 0 4\n",
      "Mark Cuban must not like money! Thats ok, he can run a buy 1 game get 5 free on ticket sales. https://t.co/hwRe73NkXv 4 4\n",
      "@JoeNBC @realDonaldTrump because Trump doesn't like to read. Need Jared there to give Trump the cliff notes. This is fine 4 4\n",
      "Not going to happen after Aug 2017! I will convince him to be, ammmmmmmm. unresponsive.... https://t.co/uRQkMgMsPF 0 0\n",
      "RT @TheLexZane: @Soxfan311 fact is Trump won 3,084 counties in the US, hillary only won 57.  NO blatant lies there, sorry, you lost 4 0\n",
      "RT @KamVTV: Do you need some play dough @NBCNews because big bad Trump wanted dinner with family and not you? 😫…  4 4\n",
      "RT @ericuman: So Trump has picked  @frankgaffney as a top national security advisor. Here's what Gaffney believes.…  4 4\n",
      "Gostei de um vídeo @YouTube de @davyjonesrj https://t.co/lYCQmKA0yn O DIA EM QUE SALVEI O PRESIDENTE DONALD TRUMP 4 4\n",
      "RT @ggreenwald: In both cases, many vested interests in ensuring that no other causes are considered: especially ones requiring sel…  0 4\n",
      "RT @csoghoian: Trump will inherit a huge NSA database of at least five years worth of records of Americans' calls to abortion clinics and s… 0 4\n",
      "The \"proof\" NOT in the pudding, or is it?\n",
      "https://t.co/LuFI2WGssB … 4 4\n",
      "RT @mtracey: As of today Trump received 318,377 more votes than Romney, so people can stop repeating the meme that he \"underperformed\" Romn… 4 0\n",
      "RT @columlynch: If Giuliani gets State, what's left for Bolton? One source linked to Trump campaign suggested might be in play for Justice. 0 0\n",
      "RT @mattmfm: Four tweets now from president-elect Trump attacking NY Times reporting.\n",
      "\n",
      "Not a single tweet denouncing hate acts c…  4 0\n",
      "#MTVStarsBritneySpears https://t.co/gFIjjsSjWV 4 4\n",
      "RT @WSJ: Trump’s win, Brexit vote stem from mishandling of globalization, Obama says https://t.co/gpIvfXibK6 🔓 4 4\n",
      "RT @ConstanceQueen8: Lawmaker's 'Suck it Up, Buttercup' Bill Targets Students' Trump Hysteria https://t.co/mg7uK4zLDx 4 4\n",
      "RT @TheDestro123: \"Bullying in the Age of Trump\" Just 64 days till Trump is sworn in and we can begin taking America back from the bullies… 4 4\n",
      "RT @SenatorReid: I say to Donald Trump: take responsibility. \n",
      "\n",
      "Rise to the dignity of the office instead of hiding behind your Twitter acco… 4 0\n",
      "RT @maggieNYT: Please don't fall for this. The story did NOT say he was officially on the transition team. https://t.co/JQWqnxu9qK 0 0\n",
      "#truth https://t.co/O1BraDtpi0 4 4\n",
      "RT @PrisonPlanet: All lobbyists have been cut from Trump's transition team. https://t.co/M805I5An7j 4 4\n",
      "I have not read Kelly's  book! &amp; I don't plan on reading it! She probably wrote it thinking Hillary was going to wi… https://t.co/oLjMhTcYIe 4 4\n",
      "RT @ColdSpringWater: @AdamBaldwin Lot of truth to what you say. Gamergate supporters taking on feminists prior to Trump running gave us exp… 4 4\n",
      "Yuan's Slide Has More to Do With Economics Than Trump https://t.co/J56fgJl4Ts https://t.co/JiMJVewosW 4 4\n",
      "RT @jelani9: And if you think nothing is about race it's pretty easy to elect an authority bigot who appoints a white nationalis…  4 4\n",
      "RT @FightNowAmerica: Okay, @Wikileaks, we need Chuck Schumer's emails. He's just as corrupt as the rest of them.\n",
      "\n",
      "Senate Democrats\n",
      "Bullying… 4 4\n",
      "RT @JaredWyand: \"Bullying in the Age of Trump\" is laughing off daily threats from leftists &amp; Muslims while being blamed for hoax at…  4 4\n",
      "RT @skookerG: Trump right now is friendly fascism. While MSM is quickly normalizing our dictator-elect, CALL THEM OUT. We cannot normalize… 4 4\n",
      "Yeah and Trump made Nero burn Rome, this is truly Dantes Devine Comedy! https://t.co/ulDfjwCpdr 4 4\n",
      "RT @mehdirhasan: \"Mulling Muslim registry\". As you do. Nothing to see here. Move along, move along... https://t.co/EzaMhRXhUJ 0 4\n",
      "Is there a list of world leaders that have their children in high ranking gov't admin positions? Anyone other than… https://t.co/hIcJhMp6ln 4 4\n",
      "RT @dhaybron1: Trump Is Not My President.. Just Socialism..\n",
      "Opps.... Sorry wrong picture.. https://t.co/DRHiN0EtH6 0 0\n",
      "The Media’s Plan to Waylay Trump https://t.co/XAaj8e2ra4 4 4\n",
      "RT @meechonmars: Siri Isnt Happy Donald Trump Won Either https://t.co/w80tmnyzQi 4 4\n",
      "RT @funder: 38 f*cking pgs on Trumps Russia Ties-RT if u give a sh*t #DworkinReport #electionaftermath #ThankYouObama #diversity https://t.… 0 4\n",
      "RT @Welly_World: Trump Pulls World From Brink Of Nuclear War: Soros Outraged https://t.co/Hg8IPdG2OI via @YouTube 4 4\n",
      "RT @FT: Why the prospect of lower US corporate taxes in a Trump presidency are proving a major positive for the stock marke…  4 4\n",
      "RT @buffaloon: Trump is about to make big banks very happy | Will let them get away with financial 'murder'.  https://t.co/efpt4Bq8tG 4 4\n",
      "RT @IFRI_: À LIRE - Le monde selon #Trump. Anticiper la nouvelle #politique étrangère américaine. Étude collective de l'Ifri :…  4 4\n",
      "RT @ajplus: Cities across the U.S. pledge to remain sanctuaries for undocumented immigrants, despite Trump's threats of deporta…  4 4\n",
      "RT @zesty_trump: Could Trump Undermine The Legacy Of The Obama Presidency With The Stroke Of A Pen? https://t.co/KeZ8nFl9TP https://t.co/hX… 0 4\n",
      "@seanote11 have\n",
      "Here you go: he knows what he is doing. Keep in mind he was not supposed to b a president \n",
      "\n",
      "https://t.co/aRuwpA7b7q 4 4\n",
      "Topless Protesters Disrupt Donald Trump's Topographic Point\n",
      "https://t.co/hr44jyLnFn https://t.co/if4acovd2J 4 4\n",
      "RT @eemanabbasi: \"Muslim registry?\" \n",
      "Oh I'm sorry, I didn't realize we lived in 1940's Nazi Germany where we register ppl by their r…  0 0\n",
      "RT @qz: I’m a journalist from rural America. The media can’t understand Donald Trump until it hires more of us https://t.co/bwjod2fcBQ 4 4\n",
      "RT @BernieSanders: Mr. Trump, you talked about being the champion of working families. Now produce. But we won't accept racism, sexism or x… 4 4\n",
      "RT @gerryfsmith: Fox News will air a one-hour special where TMZ's founder interviews Trump \"as he showcases the objects in his home.\" https… 4 4\n",
      "#EMABiggestFansLadyGaga https://t.co/UqlhFYd20S 4 4\n",
      "RT @thehill: Pence removes lobbyists from Trump transition team: https://t.co/bbrrkNRJoZ https://t.co/1xkSXzQesy 4 4\n",
      "#MTVStarsBritneySpears https://t.co/AzoNsvIHWG 4 4\n",
      "RT @BonkeKolja: Und weil Herr Steinmeier selbstverständlich kein \"Vereinfacher\" ist, hat er zum Beispiel Donald #Trump einen \"Hassp…  4 4\n",
      "RT @971theticketxyt: Minnesota Driver Whose BAC Was .33 Blames Trump For DWI Arrest https://t.co/GEG76NgWqr #Trump 4 4\n",
      "These BEDWETTER rioters r \"MISFITS\" gotta belong to something. Join Trump Train, b with a NOBLE WINNER @FoxNews @oreillyfactor @AnnCoulter 4 4\n",
      "Para que la oligarquía presione a Trump y Mx asuma liderazgo lean @AlfredoJalifeR_ https://t.co/5yVzjOoDmd 4 4\n",
      "RT @Douglasmaher: Bullying in the Age of Trump https://t.co/hJXrCeJCfn 4 4\n",
      "RT @hale_razor: Obama golfs: HEY GIVE THE MAN SOME ROOM Trump eats steak: PRESS HAS THE RIGHT TO KNOW HOW IT WAS COOKED AND IF HE USED A-1 0 0\n",
      "RT @politicoroger: Fallon: \"Trump wants his adult children to get top-level security clearance so they can read secret documents and explai… 4 4\n",
      "RTL.lu - International - Grouss Fro: Wat hält den Trump vum Klimaschutz? https://t.co/EtLQaChLKU via @RTLlu 4 4\n",
      "Wow this is getting out of hand! @DebraMessing https://t.co/hSqDNlxsVC 0 4\n",
      "RT @No_2_PC: @mitchellvii Trump beat HRC by 7 million votes in the \"Fly Over\" portion of our country! You know… where us \"Deplorable's\" liv… 4 4\n",
      "RT @PrisonPlanet: Report: Anti-Trump Protesters Block Ambulance; Father of 4-Year-Old Girl Dies - https://t.co/Jbfs3BQCu1 https://t.co/f2pH… 4 4\n",
      "RT @SageRoseApparel: \"DUMP TRUMP\" T-Shirts available starting at $24.95! We ship internationally!\n",
      "\n",
      "#NotMyPresident #StillWithHer #Trump\n",
      "\n",
      "ht… 4 4\n",
      "RT @sandra8301: Donald Trump Holds Surprise Private Meeting With Ted Cruz — Then Report Surfaces That May Reveal Why https://t.co/L09m0RpLVR 4 4\n",
      "RT @desusnice: Trump supporters: boycott Pepsi\n",
      "\n",
      "Me: https://t.co/H6nWibhkUB 4 4\n",
      "RT @Cpin42: Some Possible Trump Nominees for the Supreme Court: https://t.co/eVgTqggHXZ 4 4\n",
      "RT @TeaPainUSA: 3 groups voted for Trump.\n",
      "\n",
      "1. Racists\n",
      "2. Folks that don't have a problem with racism.\n",
      "3. Fools that don't believe the first… 4 4\n",
      "@albertocairo https://t.co/UIBppCzw3C 4 4\n",
      "RT @LindaSuhler: Netanyahu: Looking Forward To Working With Trump\n",
      "#StandWithIsrael #PresidentTrump #MAGA \n",
      "https://t.co/bZlyeF0FWm https://t… 4 4\n",
      "RT @mattyglesias: Trump already pocketed millions in Secret Service money and now his disclosure obligations are vanishing https://t.co/uHm… 0 4\n",
      "\"Bullying in the Age of Trump\"\n",
      "Made up #NYTimes stories \n",
      "https://t.co/IwQdhdRK7k 0 4\n",
      "RT @raquel_amorosos: Tão falsas como as promessas do trump !! 0 4\n",
      "RT @micjcis: thefuturefreaksmeout.mp3 https://t.co/iHNSRzKAzi 4 4\n",
      "RT @RadioFreeTom: This is malpractice among whoever was supposed to staff this.\n",
      "Assuming someone was staffing this, that is. https://t.co/6… 0 0\n",
      "RT @gaybuckys: Steve Rogers: I'm Captain Amer-\n",
      "Donald Trump: hi\n",
      "Steve Rogers: https://t.co/o4PLqx3JpF 4 4\n",
      "RT @missLtoe: Yesterday, Trump and Putin discussed Syria. Today, Russia's bombing the hell out of Aleppo. https://t.co/X4AUD3CaZJ via @Moth… 4 4\n",
      "#POSC315 https://t.co/x7wYZQgcNG 4 4\n",
      "RT @columlynch: If Giuliani gets State, what's left for Bolton? One source linked to Trump campaign suggested might be in play for Justice. 0 0\n",
      "RT @GuyCodes: When Trump says he's gonna build a wall but you have a trick up your sleeve  https://t.co/7v6mcTYT0P 4 4\n",
      "cnni: A former George W. Bush administration official is warning Republicans against serving in the Trump administ… https://t.co/E5DnbPjyEU 4 4\n",
      "RT @owillis: all glory to dear leader https://t.co/qjI2IUYfE8 4 4\n",
      "RT @MADBLACKTHOT: Should I feel bad? Am I supposed to feel bad? https://t.co/LWqYCEDZsg 0 0\n",
      "RT @DougExeter: trump has tapped tony stewart as secretary of killing guys with cars. makes sense if you think about it 4 4\n",
      "Where were all the liberals with their protests/riots and petitions when bernie got bullied by the DNC? \"Bullying in the Age of Trump\" 4 4\n",
      "RT @JohnKStahlUSA: Who voted for this assclown?  Trump will defund sanctuary cities in first 100 days. Go DJT. #tcot #ccot #gop #maga https… 4 4\n",
      "Trying to figure out if the Raptors are gonna boycott Trump or not 😂😂😂 4 4\n",
      "Interesting: old media/left says TRUMP WILL KILL 1ST AMND!! when they, along with tech giants, are actually trying to kill freedom of speech 0 4\n",
      "RT @JoanneKMcD: Wow. https://t.co/GCnBAYUm1H 4 4\n",
      "RT awzurcher: Questions about what Trump's election means? I'll try to answer them during a BBC Facebook Live in a… https://t.co/1eJvBAETbZ 4 4\n",
      "RT @Normsmusic: America did not go bust supporting programs to help the poor, It went bust defending Trump Towers https://t.co/mPojQYKCAy 0 0\n",
      "RT @thenation: Will President-Elect Trump End the New Cold War? https://t.co/rsAJZuUAo9 4 4\n",
      "RT @timothyearle: Not Over Yet:  Russian Involvement Confirmed, Electoral College Should Deny Trump The Presidency https://t.co/2VihtjGWWJ… 4 4\n",
      "@RealAlexJones referred to this and to your last show on the globalists see https://t.co/tm0j0qANhl 0 4\n",
      "@FakeSportsCentr Move prevented President Trump from banning Cuban from his hotel.Cuban stays in Chappaqua, dreaming of the Lincoln bedroom 4 0\n",
      "@joshgreenman The new political correctness is doing and saying whatever the Trump fascists dictate. 4 4\n",
      "RT @ChrisVanHollen: If Trump wants to be \"president for all Americans,\" he can start by rescinding his job offer to Bannon. He has no p…  4 4\n",
      "RT @kaixsst: i love jongin because [melania trump voice] he's strong, he's passionate, he's smart, he's tough, he's strong, he's passionate… 0 0\n",
      "RT @tponews: The people elected Trump to drain the swamp but GOP establishment in congress re-elected Ryan to plug the drain. Way to go GOP! 4 4\n",
      "We demand an immediate congressional hearing investigating Trump's ties to Russia and Russian interference in this… https://t.co/NQpS09YD6P 0 4\n",
      "13% Donald Trump I'm dead https://t.co/XHiM7oDkyk 4 4\n",
      "This election was rigged, all right. As usual, #Trump only complains about things he's guilty of himself.\n",
      "\n",
      "Our demo… https://t.co/Mkeqmr4UjH 4 4\n",
      "RT @AndrewTumilty: \"Muslim Registry\"\n",
      "\n",
      "Let that sink in.\n",
      "\n",
      "Written in a 2016 headline as though it's any other mundane policy. \n",
      "\n",
      "Nothing…  4 4\n",
      "RT @hakanchelik: Trump'ın seçilmesi ve Brexit sonrası milliyetçi rüzgarlar kuvvetleniyor. İtalya Başbakanı Renzi odasındaki AB bayra…  4 4\n",
      "Top story: The US will no longer feel like a haven for Jews under Trump | Jonat… https://t.co/iTKCD3ZpNn, see more https://t.co/J8dz5OH7vS 4 0\n",
      "RT @elicortes_pr: @BrentNYT @nytopinion It seems like birds of a feather flock together. Trump showed us his true colors a long time ago! 0 0\n",
      "CBS Dismisses Trump's EPA Hire for Being a ‘Critic of Climate Science’ https://t.co/jgbYLmYWFo 4 4\n",
      "RT @sawsharee: @realDonaldTrump Then What Are You Waiting For Trump? Winning an election doesn't make you a winner! In Humanity yo…  4 4\n",
      "RT @PrisonPlanet: All lobbyists have been cut from Trump's transition team. https://t.co/M805I5An7j 4 4\n",
      "#EMABiggestFansLadyGaga https://t.co/18TIKXsKxr 4 4\n",
      "RT @NerdyNegress: There is no such thing as a good #Trump voter. #notMyPresident https://t.co/knAU5SUPES 4 4\n",
      "RT @oneunderscore__: In Facebook's reality, Ford moved truck production from Ohio to Mexico because of Trump. (&gt;50k shares.)\n",
      "In reality?…  4 4\n",
      "RT @PrisonPlanet: Dollar hits 14-year high as devastating Trump-caused economic apocalypse continues. https://t.co/IkmbFTbxzy 0 4\n",
      "RT @JohnTrumpFanKJV: May God give President Trump wisdom in choosing Loyal Patriotic God Fearing Americans to fulfill cabinet positions and… 4 4\n",
      "Opina @PabloHiriart en su Uso de Razón: Don AMLO, ¿defenderá el TLC o va con Trump? https://t.co/9mkUOwgjAG 4 4\n",
      "MY CONCERNS:  In face of obvious disarray, PRESIDENT-ELECTION insists all is great and going \"smoothly.\" 1 https://t.co/Z2jKfsJIgu 4 4\n",
      "RT @CandiceLanier: You can apply for a job in the Trump-Pence administration https://t.co/tu8nql1FCn 4 4\n",
      "Having buyers remorse yet? Idiots. https://t.co/Tr1AzQa3s0 4 4\n",
      "@TPM So, Donald Trump's crude, sexist, racist and unpresidential language is now the height of the bar? 4 4\n",
      "#MTVStarsBritneySpears https://t.co/kGSOi1T1eR 4 4\n",
      "@Glinner @thedailybeast Sen. Elizabeth Warren's Brilliant Speech on President-elect Trump https://t.co/k8OqmQfzol via @YouTube 4 4\n",
      "I do! so just stop...bleeding meat holds no interest for me...doubt he does! 2impatient/ also chefs hate it and unl… https://t.co/rh24kt9XzO 0 0\n",
      "RT @Honey17011: Encountering Democrats who are showing acceptance of GOP unPOTUS Trump?  They're Russian trolls pretending. They want us to… 4 4\n",
      "RT @JaredWyand: How many Muslim women have to be caught hoaxing attacks before the NYTimes call them out for this tactic?\n",
      "\n",
      "\"Bullyin…  0 4\n",
      "RT @politico: 📺 The best of last night's late-night: @RealBenCarson turns down Trump administration role https://t.co/3oISrRh3Pi https://t.… 4 4\n",
      "Immigration hardliner says Trump team preparing plans for wall, mulling Muslim registry https://t.co/sQWJHFInjn 0 4\n",
      "Tom Hanks responds to growing calls for him to run for President in 2020 https://t.co/ZbwapAjmYy 4 4\n",
      "RT @ianbremmer: Trump signage coming off Upper West side skyscraper. \n",
      "\n",
      "They need the letters for the White House? https://t.co/wbPczKO5B6 4 4\n",
      "RT @MayorRGiuliani: Pres. Elect Trump will work hard for all of us those who voted for him,against him and those who didn't vote. God Bless… 0 4\n",
      "Wow, I've never heard any rude people on the @drshow but some Trump supporter just came on was SO nasty to her.… https://t.co/2rkcJ9oiOc 0 0\n",
      "RT @Jflugelheim: Had a convo with someone yesterday where KKK  having a parade in Trump's honor came up. They said they didn't see w…  4 0\n",
      "@AccuracyInMedia @DonIrvine the American people have had that feeling long before trump won the election. 0 0\n",
      "RT @roqchams: This is so very good: Trump says go back, we say fight back https://t.co/Y0VgQjvgHU 0 4\n",
      "RT @CNN: The professor who predicted Donald Trump's win in the 2016 presidential race says he will be impeached…  0 4\n",
      "RT @guardian: A factory in Japan is struggling to cope with orders for Donald Trump rubber masks https://t.co/nRtQ7Vec3d 4 4\n",
      "While Thousands of Anti-Trump Thugs Rioted Across Country, Here's What Obama Did https://t.co/DH5wdqFEQR 4 4\n",
      "RT @TeaPainUSA: #TrollOfTheDay White Trump voter-&gt;@CashMyTicket snags pics of black men off datin' sites and talks like racists thi…  4 4\n",
      "Trump Name Removed From Manhattan Condo Complex https://t.co/Si1h5LgcyD https://t.co/7cbcP0ZtS9 4 4\n",
      "RT @CNBC: Senate Republicans re-elect Mitch McConnell as majority leader, key legislative partner for Trump https://t.co/Lz8dhmUq8k 4 4\n",
      "RT @jeanee5TAM: so tolerant huh&gt;NOT https://t.co/aGiHCCoLSL 0 0\n",
      "RT @Honey17011: Encountering Democrats who are showing acceptance of GOP unPOTUS Trump?  They're Russian trolls pretending. They want us to… 4 4\n",
      ". @Seccie Millions of DEMS moved over! #Trump 4 4\n",
      "For love of country do it, the electoral college there to protect our country from Trumps. https://t.co/r8TZGE1Hau 4 4\n",
      "#EMABiggestFansLadyGaga https://t.co/8QL9hK8mdA 4 4\n",
      "RT @nytimes: Syria's leader calls Trump \"a natural ally\" in the fight against terror. Syria has called its opponents terrorists.…  4 4\n",
      "RT @dandrezner: His first meeting with Trump should be super-fun. https://t.co/05OZKyYEMd 4 4\n",
      "Dear Trump, this isn't your wack ass off site reality show. This is REAL FUCKING LIFE https://t.co/znFmXybTg5 4 4\n",
      "Jeffrey Katzenberg Pens Open Letter to Hollywood After Trump Victory - Hollywood Reporter https://t.co/nOkAuG9xeA #Hollywood #CelebrityNews 4 4\n",
      "RT @tonyschwartz: Best article I've read yet on why Trump supporters feel unseen and condescended to by progressive professionals https://t… 4 4\n",
      "RT @CNNEE: El profesor que predijo que Trump ganaría dice ahora que será destituido https://t.co/IpDCsIE6Zs https://t.co/16f5Q0LGlc 4 4\n",
      "RT @JoeConchaTV: Just imagine the reaction if Trump went golfing... https://t.co/Lk6Y2Zm21X 4 4\n",
      "Mom Kicks Young Son Out of House for Voting For Trump Put that evil despicable ugly bitch in jail. &amp; remove all her parental rights. 4 0\n",
      "RT @Italians4Trump: Media Meltdown Over Trump Private Dinner With Family... https://t.co/qO14IzdaS7 4 4\n",
      "RT @FreedomofPress: 15. There’s no telling what Trump will do when he’s in office. But we promise @FreedomofPress will be there to fight an… 4 4\n",
      "RT @walklikeajedi: Dude, you're an actual racist. https://t.co/IfIMNNBjR9 0 4\n",
      "RT @MartyaLaMode: Me - This girl deserves the world.\n",
      "\n",
      "Martkaline - Donald Trump soon president, breed har &amp; cut from di country. https://t.… 4 4\n",
      "@InforLit @B_BNKS @mitchellvii @HillaryClinton here because you are lazy and can't google trump and riots https://t.co/7oxsmJRTo0 0 4\n",
      "RT @PrisonPlanet: Media Has Hissy Fit Over Trump Attending Private Dinner With His Family - https://t.co/ESdWGwMK9R https://t.co/wUIB3yqWCM 4 4\n",
      "RT @TeaPainUSA: 3 groups voted for Trump.\n",
      "\n",
      "1. Racists\n",
      "2. Folks that don't have a problem with racism.\n",
      "3. Fools that don't believe the first… 4 4\n",
      "RT @LHSummers: Trump's call for massive tax cuts is very, very poorly targeted... 1/2 https://t.co/s91rMfHuae 0 0\n",
      "UN chief confident Trump will drop rhetoric, show leadership  https://t.co/EP4GQtYbvw 4 4\n",
      "In phone call, China's Xi tells Trump cooperation is only choice https://t.co/RoHThNt10H https://t.co/FWw0KTO6re 4 4\n",
      "#MTVStarsBritneySpears https://t.co/uOmYY5OOxk 4 4\n",
      "RT @4merican3agle: Obama waits for Trump supporters to take to the streets. Don't fall for the #FalseFlag \n",
      "\n",
      "FEMA Camps Will Open Soon https… 4 4\n",
      "RT @simon_schama: a \"Muslim Registry\" would be in gross violation of the First Amendment and well, kind of Reichy, no? https://t.co/YgosQPa… 4 4\n",
      "RT @PPolenberg: @ShaunKing lots of @NBA teams #DumpTrump hotels saying they don't want to be associated with his name. But we know…  4 0\n",
      "RT @Mr_Nielsen_5309: Dear @nytimes .. With \"Bullying in the Age of Trump\" you mean stories like this?\n",
      "\n",
      "Report the truth for a change.\n",
      "https… 4 4\n",
      "RT @DonPorfirioDiaz: El maderismo nunca muere, al parece. https://t.co/PD9QVNxqWu 4 4\n",
      "RT @Lingling_Wei: Trump or no Trump, China's yuan may stay weak bc worrying asset bubbles and economic uncertainty https://t.co/APnzf3MWIV… 4 4\n",
      "Unfortunately the press pool is seen as a dozen stalkers writing opinionated/biased/falsehoods about Trump. That's… https://t.co/RLdqGNq4yl 4 4\n",
      "RT @PizzaPartyBen: Hey @Timodc you owe @OvertonGringo $10,000, why did you block him when Trump won?\n",
      "\n",
      "https://t.co/JyVO2a5ISK https://t.co/… 4 4\n",
      "RT @AgenciaElVigia: Prat Gay dijo que no pudo dormir cuando ganó Trump: \"No dormimos la noche del martes al miércoles por cómo iban cam…  4 4\n",
      "RT @LeHuffPost: Conflits d'intérêts, New York Times, collège électoral... Dans une volée de tweets, Donald Trump règle ses comptes https://… 4 4\n",
      "Mexico is now a ‘screaming buy’ for investors, thanks to Donald Trump https://t.co/RSi7UkQikJ 4 4\n",
      "RT @baalter: Trump Appoints Kris Kobach A No Nonsense Immigration Enforcer Head of Immigration Team; Illegals, Liberals HORRIFIED https://t… 4 4\n",
      "RT @NBCNewYork: The letters spelling \"Trump Place\" were taken off an NYC building after nearly 600 residents signed this petition…  0 0\n",
      "#MTVStarsBritneySpears https://t.co/yajJNj54RC 4 4\n",
      "@joe59681  丈様ならきっとお分かりになるかな～～と思いまして、お送りさせて頂きました。そこはかとなく笑えるアメリカン・ジョークですYO!（バイデン副大統領のファーストネームがジョーなのです。） https://t.co/84xcXPT153 4 4\n",
      "Without Los Angeles and New York City he won in a landslide. Electoral college is in place so NYC and Los Angeles d… https://t.co/7itZtFwPym 0 0\n",
      "-spear imperial trump supporters will get thier attention of the stormtroopers and lure them into our rebel defenses. It's the perfect plan. 0 0\n",
      "@terrimore1 who cares? Fact is, Trump is wall street's darling little pet 0 4\n",
      "RT @Banks_Todd: Thank you, @realDonaldTrump, for the giving relic media the respect it deserves. https://t.co/o6UTDjuddb 4 4\n",
      "RT @sarahkendzior: I predicted nearly every development of Trump's rise. https://t.co/0TNTJk0jnJ Only emphasizing that so you trust me now.… 0 4\n",
      "RT @CabilesWilma: https://t.co/Gs0Pi7k3yW 4 4\n",
      "By douchbag https://t.co/WXXBYftnch 4 4\n",
      "That's a weird group of people https://t.co/RqLeorerRP 0 4\n",
      "RT @CNNPolitics: Chuck Schumer and Mitch McConnell are elected to top spots in the Senate ahead of battles with Donald Trump…  4 0\n",
      "In the wake of Trump, a top Jewish and a top Muslim organization are banding together. https://t.co/vjJbVrUPPH 4 4\n",
      "RT @brianbeutler: If you think Obama was trying to reassure us about Trump's presidency yesterday, you weren't listening close enough. http… 0 4\n",
      "RT @surfermom77: NOT ENOUGH @FBI\n",
      "CEO Matt Harrigan Who Plotted \"Sniper Attack\" Against Trump Has Been Placed on \"Administrative Leav…  4 4\n",
      "RT @thechristian_m: The Hispanic woman who cheered for trump and stated \"I am Hispanic and I support Trump\" got deported over the weeke…  4 4\n",
      "RT @TruthFeedNews: Trump Set to Deport Millions of Criminal Illegals that Hillary Would Have Let Stay https://t.co/YKefUQYbF2 #TrumpTrain #… 4 4\n",
      "RT @Luvvie: The fact that Trump needs a \"Being POTUS for Dummies\" course from President Obama. I mean. Wow. I'm so embarrassed for all of u… 0 4\n",
      "RT @GoodloveRev: @HMiglino @GGevirtz @eveningstorm1 @Coco_Wms @SusanSarandon @SenSanders Now what is tragic: President Trump... https://t.c… 4 4\n",
      "RT @kurteichenwald: What'll be fun is watching Fox explain why Trump isn't doing 90% of what he promised, then seeing Trumpers on twitter m… 4 4\n",
      "RT @Cernovich: Enjoy losing fans @mcuban, like the NFL has. Also worth noting Cuban takes Saudi $$$; there's no \"my principles\" st…  4 4\n",
      "RT @DLin71: THEN: We’re not against all immigrants. Just illegal ones\n",
      "\n",
      "NOW: You’re only welcome if you have a relative named Ka…  4 4\n",
      "RT @Doogi_: Melania Trump is sticking to script… Literally. https://t.co/DUHMNKvxYh 0 4\n",
      "RT @brianphillips: I wrote about Facebook. https://t.co/oOzgpWx9pF 0 4\n",
      "RT @zhandlen: This is as confusing as that time women said Trump groped them after Trump said he groped women. https://t.co/BrXjs7f0O3 4 4\n",
      "RT @SkipLicker: Trump's face made out of crying snowflakes. Lol https://t.co/lAPobpTRSM 4 4\n",
      "US elections: Mexico concerned over US president-elect Donald Trump's immigration views https://t.co/69dYRc54XF 4 4\n",
      "RT @GuffoCaballero: Odian a los del Conalep, a las madres solteras luchonas, a las gordas con leggins y maman al Komander; pero \"Ay, el osc… 4 4\n",
      "RT @ToDropADime2: #Trump protest seems tame\n",
      "In case Ppl forgot how peacefully people accepted #Obama's election in ’08:  https://t.co/49afm… 4 4\n",
      "RT @hxzero: Trump is like 21 Pilots. He's probably not that bad, but his fanbase sucks 4 0\n",
      "RT @Suthen_boy: Trump’s Signature Can Kill Dozens of Obama’s Rules https://t.co/idxmR6wBsW Every act/edict of O was anti-US #tcot #pjnet #m… 4 4\n",
      "Chef D. Studvent is being boycotted because he catered an event for @realDonaldTrump 😡🤔https://t.co/7mD6fICwLI https://t.co/y48hsw5yKZ 4 4\n",
      "RT @tariqnasheed: Ben Carson turned down the offer to join Trump's camp because he said he doesn't have the experience.\n",
      "But\n",
      "Ben\n",
      "Carson\n",
      "Ran… 0 4\n",
      "RT @dannynett: this is arguably the most pearl-clutching/condescending three grafs we've ever been @'d in https://t.co/YaqCEX3awV https://t… 0 4\n",
      "‘Trump’ Name Coming Off New York Apartments So Humans Can Rent Without Paralyzing Shame https://t.co/wOHOF7dupv via @po_st 4 4\n",
      "RT @crohlfsen: WHO LET HIGH SCHOOL STUDENTS Sit In The Middle Of A Highway To Protest Trump? Child Endangerment? [Video] »... https://t.co/… 4 4\n",
      "RT @SkipLicker: Trump's face made out of crying snowflakes. Lol https://t.co/lAPobpTRSM 4 4\n",
      "#MTVStarsBritneySpears https://t.co/zaUfrBK8ml 4 4\n",
      "RT @RealAlexJones: PROOF – Trump protests utilizing paid professional protesters financed by #Soros - https://t.co/YB9EMFwYO8 #StillWithHer… 4 4\n",
      "RT @FreedomofPress: 9. One of Trump’s key transition members Peter Thiel secretly funded lawsuits to bankrupt a major news org this year ht… 4 4\n",
      "RT @jalloyd4: .@SenWarren: #Trump's team full of #lobbyists, #elites, &amp; 'the kind of people he ran against' @RobertBryan4 @BIUK https://t.c… 4 4\n",
      "RT @TheDestro123: \"Bullying in the Age of Trump\" Are the bully Left, who would throw us all into re-education camps for our own good if giv… 0 4\n",
      "@ENG3U_P3 @TIME the fear mongering used by trump. Even if his statements are untrue. Have had irreversible effects on both the victims and 0 4\n",
      "RT @StefanMolyneux: Trump AWOL? Know what? When you’re enraged that someone goes to dinner without telling you, you’re not a journalist. Yo… 4 0\n",
      "#DrainTheSwamp...by adding different mud? https://t.co/DPAv2SA78O 4 4\n",
      "..'the intellectual left had spent a generation taking apart the ideas of reason and common sense and was deeply un… https://t.co/BOtzAgc0aX 4 4\n",
      "RT @tariqnasheed: Ben Carson turned down the offer to join Trump's camp because he said he doesn't have the experience.\n",
      "But\n",
      "Ben\n",
      "Carson\n",
      "Ran… 0 4\n",
      "RT @WeNeedTrump: According to CNN, literally EVERYBODY supporting Trump is a racist, sexist, xenophobic, white pride seeking, bigot.…  0 4\n",
      "for 10 years, have your head chopped off, or are DEPORTED back to your country. And Donald Trump is such a MEAN MEA… https://t.co/zKFiz5vwWU 4 4\n",
      "RT @unfoRETTAble: Trump to black voters: What the hell do you have to lose?\n",
      "\n",
      "Not a thing. Not. A. Thing. https://t.co/I5I3dB1jLZ 4 0\n",
      "The cell wall protects the cell from viruses like Trump's wall protects the US from foreign invaders #WHS2016Slampaign 4 4\n",
      "RT @waddydoe: White people are outraged nba teams don't wanna stay at the trump hotels... like the NBA isn't 75-80% Black https://t.co/SBDx… 0 4\n",
      "RT @MarijuanatimesX: Everything Will be Okay; Just Listen to What Tommy Chong Said About a Trump Presidency https://t.co/V5yEzrDdyM…  4 4\n",
      "Explains the #Democrats Perfectly #Clintoncorruption\n",
      "The Truth About the Trump Protests https://t.co/83368ePCLL via @YouTube 4 4\n",
      "GOP insiders will start to talk impeachment before he takes office. Pence will take a side by Summer 2017. #overunder #Trump #impeach 4 4\n",
      "RT @KevinRandall5: The blue is where Hillary won the popular vote. The red is where Trump won the popular vote.\n",
      "THAT is the reason for…  4 4\n",
      "RT @sandym709: https://t.co/rkFucppQpc  😐 4 4\n",
      "RT @ASE: I met many passionate ppl protesting against Trump this weekend in NYC. But this woman's answer of why she was ther…  4 4\n",
      "RT @ArsenaleKappa: #Obama elogia #Tsipras. Ormai gli afroamericani se la vedono così male con #Trump che emigrerebbero pure in Grecia.\n",
      "[@Pa… 4 4\n",
      "California Today: Did Trump Really Have a Shot at California?, via @nytimes https://t.co/qG8Q8bJrwK 0 4\n",
      "'Birbirimizden daha farklı olamazdık' https://t.co/wLqujYowC3 4 4\n",
      "RT @ILDthinktank: Listen to Hernando de Soto talk about: WHY MR. TRUMP NEEDS PERU:  https://t.co/k7Tgc1ox9U https://t.co/VOLQmYARIs 4 4\n",
      "RT @trumpfnd: 38 f*cking pgs on Trumps Russia Ties. RT if u give a sh*t...\n",
      "\n",
      "#DworkinReport #StopBannon #ThxBirthControl #diversity https://… 0 4\n",
      "I’m not in the mood for ‘unity.’ At the end of the day, Trump’s still a bigot https://t.co/z7RgScW6cm #leonardpitts #kkk #notmypresident 4 0\n",
      "How did someone THAT dumb become CEO in first place? Putting his whole  company at risk for 15min of infamy?… https://t.co/wufKTZIBwE 0 0\n",
      "RT @FreedomofPress: 10. Trump’s camp banned so many journalists from campaign events that it was almost impossible to keep track. https://t… 0 0\n",
      "RT @haveigotnews: As the OED declares post-truth its word of the year based on Trump's election campaign, next year's word is revealed to b… 4 4\n",
      "Border communities look to Trump for action, answers https://t.co/bPVsgmhnJK 4 4\n",
      "RT @SOFIANEUH: bref jprefere etre pauvre que d'ressamble a trump 0 4\n",
      "How sad is it that I'm reduced to being happy that McConnell is the majority leader because he's got enough DGAF to tell Trump no on stuff 4 4\n",
      "RT @chucknelson1969: America's leaders must find a way to stop George #soros once and for all. He is the puppeteer. https://t.co/pW363o4X8Z 0 4\n",
      "#Breitbart #News #Network : #Extrem rechts – und extrem erfolgreich https://t.co/EgBPSDBJDg #Bannon #Trump 0 4\n",
      "RT @lesbiansjpg: “In the middle of a Trump protest in Manhattan - so beautiful.” https://t.co/hR1vFGQ9b7 0 4\n",
      "RT @mindbendermind: @OwlsAsylum There is NO way in the world ANYONE can openly say \"Donald Trump was the more -logical- choice.\" This was P… 4 4\n",
      "RT @BellaMichelle15: @PostRacialMyAss @djbratpack still in denial . Only useful thing abt the popular vote is fight against the falsehood o… 4 4\n",
      "RT @Fusion: \"When I found out that Donald Trump had won I was ashamed of my country.\"\n",
      "\n",
      "Today, hundreds of students in DC cut cl…  4 4\n",
      "RT @wesearchr: BREAKING: \"Trump Supporter\" Arrested For Tackling @OhioState Protester Actually Autistic @HillaryClinton Supporter https://t… 4 4\n",
      "https://t.co/qNPJ0I25SZ 4 4\n",
      "RT @dimireider: Holy shit. Read this thread. Professor asks students a political question, gets arrested, sent to psychiatric hospi…  4 0\n",
      "RT @elizondogabriel: NOW: Trump name being taken off apartment building in New York. Residents petitioned for removal. https://t.co/Sw4w6a1… 0 0\n",
      "RT @tnLaViola: Los Rolling Stones están desconcertados con el triunfo de Donald Trump. https://t.co/plTUvj44zq https://t.co/WmlGM2Kg24 4 4\n",
      "RT @thedailybeast: A former official under George W. Bush warned Republicans to “stay away” from Trump’s “arrogant” and “angry” team https:… 4 4\n",
      "RT @OleHippieChick: Liz @SenWarren drops a dime on #Trump: 'You're already breaking' campaign promises about #WallStreet https://t.co/LCaGp… 4 4\n",
      "RT @AmericanVoterUS: Due to @CNN FALSE NARRATIVE\n",
      "\n",
      "THIS is Bullying in the Age of Trump\n",
      "\n",
      "Reject opinion of sore losers 👎\n",
      "\n",
      "#BoycottCNN 🚫…  4 0\n",
      "RT @kegobloganrpw: 👧 Donald Trump jadi presiden Amerika\n",
      "👦 terus?\n",
      "👧 aku gak rela\n",
      "👦 kamu bukan warga sana\n",
      "👧 aku gak rela kamu bersamanya \n",
      "\n",
      "😔😔… 4 4\n",
      "RT @tnLaViola: Los Rolling Stones están desconcertados con el triunfo de Donald Trump. https://t.co/plTUvj44zq https://t.co/WmlGM2Kg24 4 4\n",
      "Trump, twist many on his team are Establishment populist. “You are selling out the American public” https://t.co/82NWD6j3Ef 0 0\n",
      "RT @oskar2687: Desde ahora Peña y el PRI dirán que la culpa de todo es de TRUMP y no de su ineptitud y corrupción decenal!…  4 4\n"
     ]
    }
   ],
   "source": [
    "start('trump')"
   ]
  },
  {
   "cell_type": "code",
   "execution_count": null,
   "metadata": {
    "collapsed": true
   },
   "outputs": [],
   "source": []
  }
 ],
 "metadata": {
  "anaconda-cloud": {},
  "kernelspec": {
   "display_name": "Python [default]",
   "language": "python",
   "name": "python3"
  },
  "language_info": {
   "codemirror_mode": {
    "name": "ipython",
    "version": 3
   },
   "file_extension": ".py",
   "mimetype": "text/x-python",
   "name": "python",
   "nbconvert_exporter": "python",
   "pygments_lexer": "ipython3",
   "version": "3.5.2"
  }
 },
 "nbformat": 4,
 "nbformat_minor": 1
}
