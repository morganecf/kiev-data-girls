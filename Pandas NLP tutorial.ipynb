{
 "cells": [
  {
   "cell_type": "code",
   "execution_count": 33,
   "metadata": {
    "collapsed": true
   },
   "outputs": [],
   "source": [
    "# Import pandas\n",
    "import pandas as pd\n",
    "\n",
    "# For plotting\n",
    "%matplotlib inline\n",
    "import matplotlib\n",
    "import matplotlib.pyplot as plt\n",
    "\n",
    "matplotlib.style.use('ggplot')"
   ]
  },
  {
   "cell_type": "code",
   "execution_count": 2,
   "metadata": {
    "collapsed": true
   },
   "outputs": [],
   "source": [
    "# Read in text file\n",
    "df = pd.read_csv(\"tweets_with_emoticons.csv\")"
   ]
  },
  {
   "cell_type": "code",
   "execution_count": 25,
   "metadata": {
    "collapsed": false
   },
   "outputs": [
    {
     "data": {
      "text/plain": [
       "Index(['tweet'], dtype='object')"
      ]
     },
     "execution_count": 25,
     "metadata": {},
     "output_type": "execute_result"
    }
   ],
   "source": [
    "# View columns\n",
    "df.columns  # index object"
   ]
  },
  {
   "cell_type": "code",
   "execution_count": 26,
   "metadata": {
    "collapsed": false
   },
   "outputs": [
    {
     "data": {
      "text/plain": [
       "(1600000, 1)"
      ]
     },
     "execution_count": 26,
     "metadata": {},
     "output_type": "execute_result"
    }
   ],
   "source": [
    "# View shape\n",
    "df.shape"
   ]
  },
  {
   "cell_type": "code",
   "execution_count": 27,
   "metadata": {
    "collapsed": false
   },
   "outputs": [
    {
     "data": {
      "text/html": [
       "<div>\n",
       "<table border=\"1\" class=\"dataframe\">\n",
       "  <thead>\n",
       "    <tr style=\"text-align: right;\">\n",
       "      <th></th>\n",
       "      <th>tweet</th>\n",
       "    </tr>\n",
       "  </thead>\n",
       "  <tbody>\n",
       "    <tr>\n",
       "      <th>0</th>\n",
       "      <td>@switchfoot http://twitpic.com/2y1zl - Awww, t...</td>\n",
       "    </tr>\n",
       "    <tr>\n",
       "      <th>1</th>\n",
       "      <td>is upset that he can't update his Facebook by ...</td>\n",
       "    </tr>\n",
       "    <tr>\n",
       "      <th>2</th>\n",
       "      <td>@Kenichan I dived many times for the ball. :( ...</td>\n",
       "    </tr>\n",
       "    <tr>\n",
       "      <th>3</th>\n",
       "      <td>my whole body feels itchy and like its on fire...</td>\n",
       "    </tr>\n",
       "    <tr>\n",
       "      <th>4</th>\n",
       "      <td>@nationwideclass no, it's not behaving at all....</td>\n",
       "    </tr>\n",
       "    <tr>\n",
       "      <th>5</th>\n",
       "      <td>@Kwesidei not the whole crew  :(</td>\n",
       "    </tr>\n",
       "    <tr>\n",
       "      <th>6</th>\n",
       "      <td>Need a hug  :(</td>\n",
       "    </tr>\n",
       "    <tr>\n",
       "      <th>7</th>\n",
       "      <td>@LOLTrish hey  long time no see! :( ! Yes.. Ra...</td>\n",
       "    </tr>\n",
       "    <tr>\n",
       "      <th>8</th>\n",
       "      <td>@Tatiana_K nope they didn't have it  :(</td>\n",
       "    </tr>\n",
       "    <tr>\n",
       "      <th>9</th>\n",
       "      <td>@twittera que me muera ? :( ?</td>\n",
       "    </tr>\n",
       "    <tr>\n",
       "      <th>10</th>\n",
       "      <td>spring break in plain city... :( . it's snowing</td>\n",
       "    </tr>\n",
       "    <tr>\n",
       "      <th>11</th>\n",
       "      <td>I just re-pierced my ears  :(</td>\n",
       "    </tr>\n",
       "    <tr>\n",
       "      <th>12</th>\n",
       "      <td>@caregiving I couldn't bear to watch it. :( . ...</td>\n",
       "    </tr>\n",
       "    <tr>\n",
       "      <th>13</th>\n",
       "      <td>@octolinz16 It it counts, idk why I did either...</td>\n",
       "    </tr>\n",
       "    <tr>\n",
       "      <th>14</th>\n",
       "      <td>@smarrison i would've been the first, but i di...</td>\n",
       "    </tr>\n",
       "    <tr>\n",
       "      <th>15</th>\n",
       "      <td>@iamjazzyfizzle I wish I got to watch it with ...</td>\n",
       "    </tr>\n",
       "    <tr>\n",
       "      <th>16</th>\n",
       "      <td>Hollis' death scene will hurt me severely to w...</td>\n",
       "    </tr>\n",
       "    <tr>\n",
       "      <th>17</th>\n",
       "      <td>about to file taxes  :(</td>\n",
       "    </tr>\n",
       "    <tr>\n",
       "      <th>18</th>\n",
       "      <td>@LettyA ahh ive always wanted to see rent  lov...</td>\n",
       "    </tr>\n",
       "    <tr>\n",
       "      <th>19</th>\n",
       "      <td>@FakerPattyPattz Oh dear. :( . Were you drinki...</td>\n",
       "    </tr>\n",
       "    <tr>\n",
       "      <th>20</th>\n",
       "      <td>@alydesigns i was out most of the day so didn'...</td>\n",
       "    </tr>\n",
       "    <tr>\n",
       "      <th>21</th>\n",
       "      <td>one of my friend called me, and asked to meet ...</td>\n",
       "    </tr>\n",
       "    <tr>\n",
       "      <th>22</th>\n",
       "      <td>@angry_barista I baked you a cake but I ated i...</td>\n",
       "    </tr>\n",
       "    <tr>\n",
       "      <th>23</th>\n",
       "      <td>this week is not going as i had hoped  :(</td>\n",
       "    </tr>\n",
       "    <tr>\n",
       "      <th>24</th>\n",
       "      <td>blagh class at 8 tomorrow  :(</td>\n",
       "    </tr>\n",
       "    <tr>\n",
       "      <th>25</th>\n",
       "      <td>I hate when I have to call and wake people up ...</td>\n",
       "    </tr>\n",
       "    <tr>\n",
       "      <th>26</th>\n",
       "      <td>Just going to cry myself to sleep after watchi...</td>\n",
       "    </tr>\n",
       "    <tr>\n",
       "      <th>27</th>\n",
       "      <td>im sad now  Miss.Lilly :(</td>\n",
       "    </tr>\n",
       "    <tr>\n",
       "      <th>28</th>\n",
       "      <td>ooooh.... :( . LOL  that leslie.... and ok I w...</td>\n",
       "    </tr>\n",
       "    <tr>\n",
       "      <th>29</th>\n",
       "      <td>Meh... :( . Almost Lover is the exception... t...</td>\n",
       "    </tr>\n",
       "    <tr>\n",
       "      <th>...</th>\n",
       "      <td>...</td>\n",
       "    </tr>\n",
       "    <tr>\n",
       "      <th>1599970</th>\n",
       "      <td>Thanks @eastwestchic &amp;amp; @wangyip Thanks! :)...</td>\n",
       "    </tr>\n",
       "    <tr>\n",
       "      <th>1599971</th>\n",
       "      <td>@marttn thanks Martin. :) . not the most imagi...</td>\n",
       "    </tr>\n",
       "    <tr>\n",
       "      <th>1599972</th>\n",
       "      <td>@MikeJonesPhoto Congrats Mike  Way to go! :)</td>\n",
       "    </tr>\n",
       "    <tr>\n",
       "      <th>1599973</th>\n",
       "      <td>http://twitpic.com/7jp4n - OMG! :) ! Office Sp...</td>\n",
       "    </tr>\n",
       "    <tr>\n",
       "      <th>1599974</th>\n",
       "      <td>@yrclndstnlvr ahaha nooo you were just away fr...</td>\n",
       "    </tr>\n",
       "    <tr>\n",
       "      <th>1599975</th>\n",
       "      <td>@BizCoachDeb  Hey, I'm baack! :) ! And, thanks...</td>\n",
       "    </tr>\n",
       "    <tr>\n",
       "      <th>1599976</th>\n",
       "      <td>@mattycus Yeah, my conscience would be clear i...</td>\n",
       "    </tr>\n",
       "    <tr>\n",
       "      <th>1599977</th>\n",
       "      <td>@MayorDorisWolfe Thats my girl - dishing out t...</td>\n",
       "    </tr>\n",
       "    <tr>\n",
       "      <th>1599978</th>\n",
       "      <td>@shebbs123 i second that  :)</td>\n",
       "    </tr>\n",
       "    <tr>\n",
       "      <th>1599979</th>\n",
       "      <td>In the garden  :)</td>\n",
       "    </tr>\n",
       "    <tr>\n",
       "      <th>1599980</th>\n",
       "      <td>@myheartandmind jo jen by nemuselo zrovna tÃ© ...</td>\n",
       "    </tr>\n",
       "    <tr>\n",
       "      <th>1599981</th>\n",
       "      <td>Another Commenting Contest! :) ! [;: Yay!!!  h...</td>\n",
       "    </tr>\n",
       "    <tr>\n",
       "      <th>1599982</th>\n",
       "      <td>@thrillmesoon i figured out how to see my twee...</td>\n",
       "    </tr>\n",
       "    <tr>\n",
       "      <th>1599983</th>\n",
       "      <td>@oxhot theri tomorrow, drinking coffee, talkin...</td>\n",
       "    </tr>\n",
       "    <tr>\n",
       "      <th>1599984</th>\n",
       "      <td>You heard it here first -- We're having a girl...</td>\n",
       "    </tr>\n",
       "    <tr>\n",
       "      <th>1599985</th>\n",
       "      <td>if ur the lead singer in a band, beware fallin...</td>\n",
       "    </tr>\n",
       "    <tr>\n",
       "      <th>1599986</th>\n",
       "      <td>@tarayqueen too much ads on my blog. :) .</td>\n",
       "    </tr>\n",
       "    <tr>\n",
       "      <th>1599987</th>\n",
       "      <td>@La_r_a NEVEER  I think that you both will get...</td>\n",
       "    </tr>\n",
       "    <tr>\n",
       "      <th>1599988</th>\n",
       "      <td>@Roy_Everitt ha- good job. :) . that's right -...</td>\n",
       "    </tr>\n",
       "    <tr>\n",
       "      <th>1599989</th>\n",
       "      <td>@Ms_Hip_Hop im glad ur doing well  :)</td>\n",
       "    </tr>\n",
       "    <tr>\n",
       "      <th>1599990</th>\n",
       "      <td>WOOOOO! :) ! Xbox is back</td>\n",
       "    </tr>\n",
       "    <tr>\n",
       "      <th>1599991</th>\n",
       "      <td>@rmedina @LaTati Mmmm  That sounds absolutely ...</td>\n",
       "    </tr>\n",
       "    <tr>\n",
       "      <th>1599992</th>\n",
       "      <td>ReCoVeRiNg FrOm ThE lOnG wEeKeNd  :)</td>\n",
       "    </tr>\n",
       "    <tr>\n",
       "      <th>1599993</th>\n",
       "      <td>@SCOOBY_GRITBOYS  :)</td>\n",
       "    </tr>\n",
       "    <tr>\n",
       "      <th>1599994</th>\n",
       "      <td>@Cliff_Forster Yeah, that does work better tha...</td>\n",
       "    </tr>\n",
       "    <tr>\n",
       "      <th>1599995</th>\n",
       "      <td>Just woke up. :) . Having no school is the bes...</td>\n",
       "    </tr>\n",
       "    <tr>\n",
       "      <th>1599996</th>\n",
       "      <td>TheWDB.com - Very cool to hear old Walt interv...</td>\n",
       "    </tr>\n",
       "    <tr>\n",
       "      <th>1599997</th>\n",
       "      <td>Are you ready for your MoJo Makeover? :) ? Ask...</td>\n",
       "    </tr>\n",
       "    <tr>\n",
       "      <th>1599998</th>\n",
       "      <td>Happy 38th Birthday to my boo of alll time!!! ...</td>\n",
       "    </tr>\n",
       "    <tr>\n",
       "      <th>1599999</th>\n",
       "      <td>happy #charitytuesday @theNSPCC @SparksCharity...</td>\n",
       "    </tr>\n",
       "  </tbody>\n",
       "</table>\n",
       "<p>1600000 rows × 1 columns</p>\n",
       "</div>"
      ],
      "text/plain": [
       "                                                     tweet\n",
       "0        @switchfoot http://twitpic.com/2y1zl - Awww, t...\n",
       "1        is upset that he can't update his Facebook by ...\n",
       "2        @Kenichan I dived many times for the ball. :( ...\n",
       "3        my whole body feels itchy and like its on fire...\n",
       "4        @nationwideclass no, it's not behaving at all....\n",
       "5                        @Kwesidei not the whole crew  :( \n",
       "6                                          Need a hug  :( \n",
       "7        @LOLTrish hey  long time no see! :( ! Yes.. Ra...\n",
       "8                 @Tatiana_K nope they didn't have it  :( \n",
       "9                           @twittera que me muera ? :( ? \n",
       "10        spring break in plain city... :( . it's snowing \n",
       "11                          I just re-pierced my ears  :( \n",
       "12       @caregiving I couldn't bear to watch it. :( . ...\n",
       "13       @octolinz16 It it counts, idk why I did either...\n",
       "14       @smarrison i would've been the first, but i di...\n",
       "15       @iamjazzyfizzle I wish I got to watch it with ...\n",
       "16       Hollis' death scene will hurt me severely to w...\n",
       "17                                about to file taxes  :( \n",
       "18       @LettyA ahh ive always wanted to see rent  lov...\n",
       "19       @FakerPattyPattz Oh dear. :( . Were you drinki...\n",
       "20       @alydesigns i was out most of the day so didn'...\n",
       "21       one of my friend called me, and asked to meet ...\n",
       "22       @angry_barista I baked you a cake but I ated i...\n",
       "23              this week is not going as i had hoped  :( \n",
       "24                          blagh class at 8 tomorrow  :( \n",
       "25       I hate when I have to call and wake people up ...\n",
       "26       Just going to cry myself to sleep after watchi...\n",
       "27                              im sad now  Miss.Lilly :( \n",
       "28       ooooh.... :( . LOL  that leslie.... and ok I w...\n",
       "29       Meh... :( . Almost Lover is the exception... t...\n",
       "...                                                    ...\n",
       "1599970  Thanks @eastwestchic &amp; @wangyip Thanks! :)...\n",
       "1599971  @marttn thanks Martin. :) . not the most imagi...\n",
       "1599972      @MikeJonesPhoto Congrats Mike  Way to go! :) \n",
       "1599973  http://twitpic.com/7jp4n - OMG! :) ! Office Sp...\n",
       "1599974  @yrclndstnlvr ahaha nooo you were just away fr...\n",
       "1599975  @BizCoachDeb  Hey, I'm baack! :) ! And, thanks...\n",
       "1599976  @mattycus Yeah, my conscience would be clear i...\n",
       "1599977  @MayorDorisWolfe Thats my girl - dishing out t...\n",
       "1599978                      @shebbs123 i second that  :) \n",
       "1599979                                 In the garden  :) \n",
       "1599980  @myheartandmind jo jen by nemuselo zrovna tÃ© ...\n",
       "1599981  Another Commenting Contest! :) ! [;: Yay!!!  h...\n",
       "1599982  @thrillmesoon i figured out how to see my twee...\n",
       "1599983  @oxhot theri tomorrow, drinking coffee, talkin...\n",
       "1599984  You heard it here first -- We're having a girl...\n",
       "1599985  if ur the lead singer in a band, beware fallin...\n",
       "1599986         @tarayqueen too much ads on my blog. :) . \n",
       "1599987  @La_r_a NEVEER  I think that you both will get...\n",
       "1599988  @Roy_Everitt ha- good job. :) . that's right -...\n",
       "1599989             @Ms_Hip_Hop im glad ur doing well  :) \n",
       "1599990                         WOOOOO! :) ! Xbox is back \n",
       "1599991  @rmedina @LaTati Mmmm  That sounds absolutely ...\n",
       "1599992              ReCoVeRiNg FrOm ThE lOnG wEeKeNd  :) \n",
       "1599993                              @SCOOBY_GRITBOYS  :) \n",
       "1599994  @Cliff_Forster Yeah, that does work better tha...\n",
       "1599995  Just woke up. :) . Having no school is the bes...\n",
       "1599996  TheWDB.com - Very cool to hear old Walt interv...\n",
       "1599997  Are you ready for your MoJo Makeover? :) ? Ask...\n",
       "1599998  Happy 38th Birthday to my boo of alll time!!! ...\n",
       "1599999  happy #charitytuesday @theNSPCC @SparksCharity...\n",
       "\n",
       "[1600000 rows x 1 columns]"
      ]
     },
     "execution_count": 27,
     "metadata": {},
     "output_type": "execute_result"
    }
   ],
   "source": [
    "# View head and tail\n",
    "df"
   ]
  },
  {
   "cell_type": "code",
   "execution_count": 28,
   "metadata": {
    "collapsed": true
   },
   "outputs": [],
   "source": [
    "# View all sad tweets"
   ]
  },
  {
   "cell_type": "code",
   "execution_count": 15,
   "metadata": {
    "collapsed": true
   },
   "outputs": [],
   "source": [
    "# View all happy tweets"
   ]
  },
  {
   "cell_type": "code",
   "execution_count": 16,
   "metadata": {
    "collapsed": true
   },
   "outputs": [],
   "source": [
    "# What % of tweets contain hashtags?"
   ]
  },
  {
   "cell_type": "code",
   "execution_count": 17,
   "metadata": {
    "collapsed": true
   },
   "outputs": [],
   "source": [
    "# What % of tweets contain mentions?"
   ]
  },
  {
   "cell_type": "code",
   "execution_count": 18,
   "metadata": {
    "collapsed": true
   },
   "outputs": [],
   "source": [
    "# What % of tweets contain links? "
   ]
  },
  {
   "cell_type": "code",
   "execution_count": 19,
   "metadata": {
    "collapsed": true
   },
   "outputs": [],
   "source": [
    "# Num hashtags/tweet distribution - Zipfs?"
   ]
  },
  {
   "cell_type": "code",
   "execution_count": 20,
   "metadata": {
    "collapsed": true
   },
   "outputs": [],
   "source": [
    "# Num mentions/tweet distribution - Zipfs?"
   ]
  },
  {
   "cell_type": "code",
   "execution_count": 21,
   "metadata": {
    "collapsed": true
   },
   "outputs": [],
   "source": [
    "# Num words/tweet distribution"
   ]
  },
  {
   "cell_type": "code",
   "execution_count": 22,
   "metadata": {
    "collapsed": true
   },
   "outputs": [],
   "source": [
    "# Num characters/tweet distribution"
   ]
  },
  {
   "cell_type": "code",
   "execution_count": 23,
   "metadata": {
    "collapsed": true
   },
   "outputs": [],
   "source": [
    "# Spelling correction/normalization? "
   ]
  },
  {
   "cell_type": "code",
   "execution_count": 29,
   "metadata": {
    "collapsed": true
   },
   "outputs": [],
   "source": [
    "# Lemmas "
   ]
  },
  {
   "cell_type": "code",
   "execution_count": 33,
   "metadata": {
    "collapsed": false
   },
   "outputs": [
    {
     "data": {
      "text/plain": [
       "pandas.core.series.Series"
      ]
     },
     "execution_count": 33,
     "metadata": {},
     "output_type": "execute_result"
    }
   ],
   "source": [
    "# A column is a pandas series\n",
    "type(df['tweet'])"
   ]
  },
  {
   "cell_type": "code",
   "execution_count": 40,
   "metadata": {
    "collapsed": false
   },
   "outputs": [
    {
     "data": {
      "text/plain": [
       "0          @switchfoot http://twitpic.com/2y1zl - awww, t...\n",
       "1          is upset that he can't update his facebook by ...\n",
       "2          @kenichan i dived many times for the ball. :( ...\n",
       "3          my whole body feels itchy and like its on fire...\n",
       "4          @nationwideclass no, it's not behaving at all....\n",
       "5                          @kwesidei not the whole crew  :( \n",
       "6                                            need a hug  :( \n",
       "7          @loltrish hey  long time no see! :( ! yes.. ra...\n",
       "8                   @tatiana_k nope they didn't have it  :( \n",
       "9                             @twittera que me muera ? :( ? \n",
       "10          spring break in plain city... :( . it's snowing \n",
       "11                            i just re-pierced my ears  :( \n",
       "12         @caregiving i couldn't bear to watch it. :( . ...\n",
       "13         @octolinz16 it it counts, idk why i did either...\n",
       "14         @smarrison i would've been the first, but i di...\n",
       "15         @iamjazzyfizzle i wish i got to watch it with ...\n",
       "16         hollis' death scene will hurt me severely to w...\n",
       "17                                  about to file taxes  :( \n",
       "18         @lettya ahh ive always wanted to see rent  lov...\n",
       "19         @fakerpattypattz oh dear. :( . were you drinki...\n",
       "20         @alydesigns i was out most of the day so didn'...\n",
       "21         one of my friend called me, and asked to meet ...\n",
       "22         @angry_barista i baked you a cake but i ated i...\n",
       "23                this week is not going as i had hoped  :( \n",
       "24                            blagh class at 8 tomorrow  :( \n",
       "25         i hate when i have to call and wake people up ...\n",
       "26         just going to cry myself to sleep after watchi...\n",
       "27                                im sad now  miss.lilly :( \n",
       "28         ooooh.... :( . lol  that leslie.... and ok i w...\n",
       "29         meh... :( . almost lover is the exception... t...\n",
       "                                 ...                        \n",
       "1599970    thanks @eastwestchic &amp; @wangyip thanks! :)...\n",
       "1599971    @marttn thanks martin. :) . not the most imagi...\n",
       "1599972        @mikejonesphoto congrats mike  way to go! :) \n",
       "1599973    http://twitpic.com/7jp4n - omg! :) ! office sp...\n",
       "1599974    @yrclndstnlvr ahaha nooo you were just away fr...\n",
       "1599975    @bizcoachdeb  hey, i'm baack! :) ! and, thanks...\n",
       "1599976    @mattycus yeah, my conscience would be clear i...\n",
       "1599977    @mayordoriswolfe thats my girl - dishing out t...\n",
       "1599978                        @shebbs123 i second that  :) \n",
       "1599979                                   in the garden  :) \n",
       "1599980    @myheartandmind jo jen by nemuselo zrovna tã© ...\n",
       "1599981    another commenting contest! :) ! [;: yay!!!  h...\n",
       "1599982    @thrillmesoon i figured out how to see my twee...\n",
       "1599983    @oxhot theri tomorrow, drinking coffee, talkin...\n",
       "1599984    you heard it here first -- we're having a girl...\n",
       "1599985    if ur the lead singer in a band, beware fallin...\n",
       "1599986           @tarayqueen too much ads on my blog. :) . \n",
       "1599987    @la_r_a neveer  i think that you both will get...\n",
       "1599988    @roy_everitt ha- good job. :) . that's right -...\n",
       "1599989               @ms_hip_hop im glad ur doing well  :) \n",
       "1599990                           wooooo! :) ! xbox is back \n",
       "1599991    @rmedina @latati mmmm  that sounds absolutely ...\n",
       "1599992                recovering from the long weekend  :) \n",
       "1599993                                @scooby_gritboys  :) \n",
       "1599994    @cliff_forster yeah, that does work better tha...\n",
       "1599995    just woke up. :) . having no school is the bes...\n",
       "1599996    thewdb.com - very cool to hear old walt interv...\n",
       "1599997    are you ready for your mojo makeover? :) ? ask...\n",
       "1599998    happy 38th birthday to my boo of alll time!!! ...\n",
       "1599999    happy #charitytuesday @thenspcc @sparkscharity...\n",
       "Name: tweet, dtype: object"
      ]
     },
     "execution_count": 40,
     "metadata": {},
     "output_type": "execute_result"
    }
   ],
   "source": [
    "# Series have string operations\n",
    "s = df['tweet']\n",
    "s.str.strip() # lstrip() and rstrip()\n",
    "s.str.lower()"
   ]
  },
  {
   "cell_type": "code",
   "execution_count": 38,
   "metadata": {
    "collapsed": false
   },
   "outputs": [
    {
     "data": {
      "text/plain": [
       "0          120\n",
       "1          116\n",
       "2           94\n",
       "3           51\n",
       "4          116\n",
       "5           33\n",
       "6           15\n",
       "7          104\n",
       "8           40\n",
       "9           30\n",
       "10          48\n",
       "11          30\n",
       "12          99\n",
       "13          82\n",
       "14         122\n",
       "15         108\n",
       "16          97\n",
       "17          24\n",
       "18          68\n",
       "19          84\n",
       "20          66\n",
       "21         105\n",
       "22          52\n",
       "23          42\n",
       "24          30\n",
       "25          50\n",
       "26          70\n",
       "27          26\n",
       "28          94\n",
       "29          86\n",
       "          ... \n",
       "1599970     86\n",
       "1599971     85\n",
       "1599972     45\n",
       "1599973     71\n",
       "1599974    138\n",
       "1599975    143\n",
       "1599976     64\n",
       "1599977     72\n",
       "1599978     29\n",
       "1599979     18\n",
       "1599980     67\n",
       "1599981     70\n",
       "1599982    139\n",
       "1599983    120\n",
       "1599984    111\n",
       "1599985    143\n",
       "1599986     42\n",
       "1599987     77\n",
       "1599988    130\n",
       "1599989     38\n",
       "1599990     26\n",
       "1599991    138\n",
       "1599992     37\n",
       "1599993     21\n",
       "1599994    136\n",
       "1599995     61\n",
       "1599996     83\n",
       "1599997     62\n",
       "1599998     70\n",
       "1599999     66\n",
       "Name: tweet, dtype: int64"
      ]
     },
     "execution_count": 38,
     "metadata": {},
     "output_type": "execute_result"
    }
   ],
   "source": [
    "char_counts = s.str.len()\n",
    "char_counts"
   ]
  },
  {
   "cell_type": "code",
   "execution_count": 41,
   "metadata": {
    "collapsed": false
   },
   "outputs": [],
   "source": [
    "# Convert series to categories\n",
    "# Perform string operations on category (faster if have few unique values)\n",
    "# TODO what the f was this"
   ]
  },
  {
   "cell_type": "code",
   "execution_count": 54,
   "metadata": {
    "collapsed": false
   },
   "outputs": [
    {
     "data": {
      "text/html": [
       "<div>\n",
       "<table border=\"1\" class=\"dataframe\">\n",
       "  <thead>\n",
       "    <tr style=\"text-align: right;\">\n",
       "      <th></th>\n",
       "      <th>0</th>\n",
       "    </tr>\n",
       "  </thead>\n",
       "  <tbody>\n",
       "    <tr>\n",
       "      <th>0</th>\n",
       "      <td>@switchfoot</td>\n",
       "    </tr>\n",
       "    <tr>\n",
       "      <th>1</th>\n",
       "      <td>NaN</td>\n",
       "    </tr>\n",
       "    <tr>\n",
       "      <th>2</th>\n",
       "      <td>@Kenichan</td>\n",
       "    </tr>\n",
       "    <tr>\n",
       "      <th>3</th>\n",
       "      <td>NaN</td>\n",
       "    </tr>\n",
       "    <tr>\n",
       "      <th>4</th>\n",
       "      <td>@nationwideclass</td>\n",
       "    </tr>\n",
       "    <tr>\n",
       "      <th>5</th>\n",
       "      <td>@Kwesidei</td>\n",
       "    </tr>\n",
       "    <tr>\n",
       "      <th>6</th>\n",
       "      <td>NaN</td>\n",
       "    </tr>\n",
       "    <tr>\n",
       "      <th>7</th>\n",
       "      <td>@LOLTrish</td>\n",
       "    </tr>\n",
       "    <tr>\n",
       "      <th>8</th>\n",
       "      <td>@Tatiana_K</td>\n",
       "    </tr>\n",
       "    <tr>\n",
       "      <th>9</th>\n",
       "      <td>@twittera</td>\n",
       "    </tr>\n",
       "    <tr>\n",
       "      <th>10</th>\n",
       "      <td>NaN</td>\n",
       "    </tr>\n",
       "    <tr>\n",
       "      <th>11</th>\n",
       "      <td>NaN</td>\n",
       "    </tr>\n",
       "    <tr>\n",
       "      <th>12</th>\n",
       "      <td>@caregiving</td>\n",
       "    </tr>\n",
       "    <tr>\n",
       "      <th>13</th>\n",
       "      <td>@octolinz16</td>\n",
       "    </tr>\n",
       "    <tr>\n",
       "      <th>14</th>\n",
       "      <td>@smarrison</td>\n",
       "    </tr>\n",
       "    <tr>\n",
       "      <th>15</th>\n",
       "      <td>@iamjazzyfizzle</td>\n",
       "    </tr>\n",
       "    <tr>\n",
       "      <th>16</th>\n",
       "      <td>NaN</td>\n",
       "    </tr>\n",
       "    <tr>\n",
       "      <th>17</th>\n",
       "      <td>NaN</td>\n",
       "    </tr>\n",
       "    <tr>\n",
       "      <th>18</th>\n",
       "      <td>@LettyA</td>\n",
       "    </tr>\n",
       "    <tr>\n",
       "      <th>19</th>\n",
       "      <td>@FakerPattyPattz</td>\n",
       "    </tr>\n",
       "    <tr>\n",
       "      <th>20</th>\n",
       "      <td>@alydesigns</td>\n",
       "    </tr>\n",
       "    <tr>\n",
       "      <th>21</th>\n",
       "      <td>NaN</td>\n",
       "    </tr>\n",
       "    <tr>\n",
       "      <th>22</th>\n",
       "      <td>@angry_barista</td>\n",
       "    </tr>\n",
       "    <tr>\n",
       "      <th>23</th>\n",
       "      <td>NaN</td>\n",
       "    </tr>\n",
       "    <tr>\n",
       "      <th>24</th>\n",
       "      <td>NaN</td>\n",
       "    </tr>\n",
       "    <tr>\n",
       "      <th>25</th>\n",
       "      <td>NaN</td>\n",
       "    </tr>\n",
       "    <tr>\n",
       "      <th>26</th>\n",
       "      <td>NaN</td>\n",
       "    </tr>\n",
       "    <tr>\n",
       "      <th>27</th>\n",
       "      <td>NaN</td>\n",
       "    </tr>\n",
       "    <tr>\n",
       "      <th>28</th>\n",
       "      <td>NaN</td>\n",
       "    </tr>\n",
       "    <tr>\n",
       "      <th>29</th>\n",
       "      <td>NaN</td>\n",
       "    </tr>\n",
       "    <tr>\n",
       "      <th>...</th>\n",
       "      <td>...</td>\n",
       "    </tr>\n",
       "    <tr>\n",
       "      <th>1599970</th>\n",
       "      <td>@eastwestchic</td>\n",
       "    </tr>\n",
       "    <tr>\n",
       "      <th>1599971</th>\n",
       "      <td>@marttn</td>\n",
       "    </tr>\n",
       "    <tr>\n",
       "      <th>1599972</th>\n",
       "      <td>@MikeJonesPhoto</td>\n",
       "    </tr>\n",
       "    <tr>\n",
       "      <th>1599973</th>\n",
       "      <td>NaN</td>\n",
       "    </tr>\n",
       "    <tr>\n",
       "      <th>1599974</th>\n",
       "      <td>@yrclndstnlvr</td>\n",
       "    </tr>\n",
       "    <tr>\n",
       "      <th>1599975</th>\n",
       "      <td>@BizCoachDeb</td>\n",
       "    </tr>\n",
       "    <tr>\n",
       "      <th>1599976</th>\n",
       "      <td>@mattycus</td>\n",
       "    </tr>\n",
       "    <tr>\n",
       "      <th>1599977</th>\n",
       "      <td>@MayorDorisWolfe</td>\n",
       "    </tr>\n",
       "    <tr>\n",
       "      <th>1599978</th>\n",
       "      <td>@shebbs123</td>\n",
       "    </tr>\n",
       "    <tr>\n",
       "      <th>1599979</th>\n",
       "      <td>NaN</td>\n",
       "    </tr>\n",
       "    <tr>\n",
       "      <th>1599980</th>\n",
       "      <td>@myheartandmind</td>\n",
       "    </tr>\n",
       "    <tr>\n",
       "      <th>1599981</th>\n",
       "      <td>NaN</td>\n",
       "    </tr>\n",
       "    <tr>\n",
       "      <th>1599982</th>\n",
       "      <td>@thrillmesoon</td>\n",
       "    </tr>\n",
       "    <tr>\n",
       "      <th>1599983</th>\n",
       "      <td>@oxhot</td>\n",
       "    </tr>\n",
       "    <tr>\n",
       "      <th>1599984</th>\n",
       "      <td>NaN</td>\n",
       "    </tr>\n",
       "    <tr>\n",
       "      <th>1599985</th>\n",
       "      <td>NaN</td>\n",
       "    </tr>\n",
       "    <tr>\n",
       "      <th>1599986</th>\n",
       "      <td>@tarayqueen</td>\n",
       "    </tr>\n",
       "    <tr>\n",
       "      <th>1599987</th>\n",
       "      <td>@La_r_a</td>\n",
       "    </tr>\n",
       "    <tr>\n",
       "      <th>1599988</th>\n",
       "      <td>@Roy_Everitt</td>\n",
       "    </tr>\n",
       "    <tr>\n",
       "      <th>1599989</th>\n",
       "      <td>@Ms_Hip_Hop</td>\n",
       "    </tr>\n",
       "    <tr>\n",
       "      <th>1599990</th>\n",
       "      <td>NaN</td>\n",
       "    </tr>\n",
       "    <tr>\n",
       "      <th>1599991</th>\n",
       "      <td>@rmedina</td>\n",
       "    </tr>\n",
       "    <tr>\n",
       "      <th>1599992</th>\n",
       "      <td>NaN</td>\n",
       "    </tr>\n",
       "    <tr>\n",
       "      <th>1599993</th>\n",
       "      <td>@SCOOBY_GRITBOYS</td>\n",
       "    </tr>\n",
       "    <tr>\n",
       "      <th>1599994</th>\n",
       "      <td>@Cliff_Forster</td>\n",
       "    </tr>\n",
       "    <tr>\n",
       "      <th>1599995</th>\n",
       "      <td>NaN</td>\n",
       "    </tr>\n",
       "    <tr>\n",
       "      <th>1599996</th>\n",
       "      <td>NaN</td>\n",
       "    </tr>\n",
       "    <tr>\n",
       "      <th>1599997</th>\n",
       "      <td>NaN</td>\n",
       "    </tr>\n",
       "    <tr>\n",
       "      <th>1599998</th>\n",
       "      <td>NaN</td>\n",
       "    </tr>\n",
       "    <tr>\n",
       "      <th>1599999</th>\n",
       "      <td>@theNSPCC</td>\n",
       "    </tr>\n",
       "  </tbody>\n",
       "</table>\n",
       "<p>1600000 rows × 1 columns</p>\n",
       "</div>"
      ],
      "text/plain": [
       "                        0\n",
       "0             @switchfoot\n",
       "1                     NaN\n",
       "2               @Kenichan\n",
       "3                     NaN\n",
       "4        @nationwideclass\n",
       "5               @Kwesidei\n",
       "6                     NaN\n",
       "7               @LOLTrish\n",
       "8              @Tatiana_K\n",
       "9               @twittera\n",
       "10                    NaN\n",
       "11                    NaN\n",
       "12            @caregiving\n",
       "13            @octolinz16\n",
       "14             @smarrison\n",
       "15        @iamjazzyfizzle\n",
       "16                    NaN\n",
       "17                    NaN\n",
       "18                @LettyA\n",
       "19       @FakerPattyPattz\n",
       "20            @alydesigns\n",
       "21                    NaN\n",
       "22         @angry_barista\n",
       "23                    NaN\n",
       "24                    NaN\n",
       "25                    NaN\n",
       "26                    NaN\n",
       "27                    NaN\n",
       "28                    NaN\n",
       "29                    NaN\n",
       "...                   ...\n",
       "1599970     @eastwestchic\n",
       "1599971           @marttn\n",
       "1599972   @MikeJonesPhoto\n",
       "1599973               NaN\n",
       "1599974     @yrclndstnlvr\n",
       "1599975      @BizCoachDeb\n",
       "1599976         @mattycus\n",
       "1599977  @MayorDorisWolfe\n",
       "1599978        @shebbs123\n",
       "1599979               NaN\n",
       "1599980   @myheartandmind\n",
       "1599981               NaN\n",
       "1599982     @thrillmesoon\n",
       "1599983            @oxhot\n",
       "1599984               NaN\n",
       "1599985               NaN\n",
       "1599986       @tarayqueen\n",
       "1599987           @La_r_a\n",
       "1599988      @Roy_Everitt\n",
       "1599989       @Ms_Hip_Hop\n",
       "1599990               NaN\n",
       "1599991          @rmedina\n",
       "1599992               NaN\n",
       "1599993  @SCOOBY_GRITBOYS\n",
       "1599994    @Cliff_Forster\n",
       "1599995               NaN\n",
       "1599996               NaN\n",
       "1599997               NaN\n",
       "1599998               NaN\n",
       "1599999         @theNSPCC\n",
       "\n",
       "[1600000 rows x 1 columns]"
      ]
     },
     "execution_count": 54,
     "metadata": {},
     "output_type": "execute_result"
    }
   ],
   "source": [
    "# Find all mentions\n",
    "s.str.extract('(@\\w+)', expand=True)"
   ]
  },
  {
   "cell_type": "code",
   "execution_count": 70,
   "metadata": {
    "collapsed": false
   },
   "outputs": [],
   "source": [
    "# Building a better regex\n",
    "import re\n",
    "\n",
    "# First try\n",
    "mention = re.compile(r'@\\w+')\n",
    "\n",
    "# Good\n",
    "re.match(mention, '@lucy') \n",
    "# Breaks\n",
    "re.match(mention, 'hi @lucy')\n",
    "re.match(mention, 'lucy@gmail.com')\n",
    "\n",
    "# Second try\n",
    "mention = re.compile(r'^(.*\\s)?@\\w+')\n",
    "\n",
    "# Good\n",
    "re.match(mention, '@lucy')\n",
    "re.match(mention, 'hi @lucy')\n",
    "re.match(mention, 'HI @LUCY!!')\n",
    "re.match(mention, 'lucy@gmail.com')\n",
    "\n",
    "# match vs. search\n",
    "# match checks for match from beginning of string\n",
    "# search checks for match anywhere in the string\n",
    "# TODO example\n",
    "# TODO should we use NLTK tokenizer? "
   ]
  },
  {
   "cell_type": "code",
   "execution_count": 83,
   "metadata": {
    "collapsed": false
   },
   "outputs": [
    {
     "name": "stderr",
     "output_type": "stream",
     "text": [
      "/Users/morgane/anaconda3/lib/python3.5/site-packages/ipykernel/__main__.py:5: UserWarning: This pattern has match groups. To actually get the groups, use str.extract.\n",
      "/Users/morgane/anaconda3/lib/python3.5/site-packages/ipykernel/__main__.py:6: FutureWarning: In future versions of pandas, match will change to always return a bool indexer.\n",
      "/Users/morgane/anaconda3/lib/python3.5/site-packages/ipykernel/__main__.py:9: UserWarning: This pattern has match groups. To actually get the groups, use str.extract.\n"
     ]
    },
    {
     "data": {
      "text/plain": [
       "False    863660\n",
       "True     736340\n",
       "Name: tweet, dtype: int64"
      ]
     },
     "execution_count": 83,
     "metadata": {},
     "output_type": "execute_result"
    }
   ],
   "source": [
    "# Get tweets with mentions\n",
    "mention_pattern = r'^(.*\\s)?@\\w+'\n",
    "\n",
    "# Two ways\n",
    "s.str.contains(mention_pattern)  # corresponds to re.search\n",
    "s.str.match(mention_pattern)     # corresponds to re.match\n",
    "\n",
    "# Count\n",
    "s.str.contains(mention_pattern).value_counts()"
   ]
  },
  {
   "cell_type": "code",
   "execution_count": 79,
   "metadata": {
    "collapsed": false
   },
   "outputs": [
    {
     "data": {
      "text/plain": [
       "0.46021250000000002"
      ]
     },
     "execution_count": 79,
     "metadata": {},
     "output_type": "execute_result"
    }
   ],
   "source": [
    "# % of tweets with mentions\n",
    "736340 / df.size"
   ]
  },
  {
   "cell_type": "code",
   "execution_count": 1,
   "metadata": {
    "collapsed": false
   },
   "outputs": [
    {
     "ename": "NameError",
     "evalue": "name 'df' is not defined",
     "output_type": "error",
     "traceback": [
      "\u001b[0;31m---------------------------------------------------------------------------\u001b[0m",
      "\u001b[0;31mNameError\u001b[0m                                 Traceback (most recent call last)",
      "\u001b[0;32m<ipython-input-1-4faa35fefc2c>\u001b[0m in \u001b[0;36m<module>\u001b[0;34m()\u001b[0m\n\u001b[1;32m      1\u001b[0m \u001b[0;31m# Number of mentions per tweet\u001b[0m\u001b[0;34m\u001b[0m\u001b[0;34m\u001b[0m\u001b[0m\n\u001b[0;32m----> 2\u001b[0;31m \u001b[0ms\u001b[0m \u001b[0;34m=\u001b[0m \u001b[0mdf\u001b[0m\u001b[0;34m[\u001b[0m\u001b[0;34m'tweet'\u001b[0m\u001b[0;34m]\u001b[0m\u001b[0;34m\u001b[0m\u001b[0m\n\u001b[0m\u001b[1;32m      3\u001b[0m \u001b[0mmentions_per_tweet\u001b[0m \u001b[0;34m=\u001b[0m \u001b[0ms\u001b[0m\u001b[0;34m.\u001b[0m\u001b[0mstr\u001b[0m\u001b[0;34m.\u001b[0m\u001b[0mcount\u001b[0m\u001b[0;34m(\u001b[0m\u001b[0;34m'@\\w+'\u001b[0m\u001b[0;34m)\u001b[0m\u001b[0;34m\u001b[0m\u001b[0m\n\u001b[1;32m      4\u001b[0m \u001b[0;34m\u001b[0m\u001b[0m\n\u001b[1;32m      5\u001b[0m \u001b[0;31m# Average number of mentions\u001b[0m\u001b[0;34m\u001b[0m\u001b[0;34m\u001b[0m\u001b[0m\n",
      "\u001b[0;31mNameError\u001b[0m: name 'df' is not defined"
     ]
    }
   ],
   "source": [
    "# Number of mentions per tweet\n",
    "s = df['tweet']\n",
    "mentions_per_tweet = s.str.count('@\\w+')\n",
    "\n",
    "# Average number of mentions\n",
    "mentions_per_tweet.mean()\n",
    "# compute other stats \n",
    "\n",
    "# Distribution of mentions/tweet \n",
    "distribution = mentions_per_tweet.value_counts()\n",
    "\n",
    "# Plot\n",
    "distribution.plot()"
   ]
  },
  {
   "cell_type": "code",
   "execution_count": 34,
   "metadata": {
    "collapsed": false
   },
   "outputs": [
    {
     "name": "stdout",
     "output_type": "stream",
     "text": [
      "Hashtags\n",
      "Mean: 0.027541875\n",
      "\n",
      " 0     1564153\n",
      "1       31073\n",
      "2        3383\n",
      "3         779\n",
      "4         246\n",
      "5          73\n",
      "6          64\n",
      "7          61\n",
      "8          49\n",
      "10         38\n",
      "9          31\n",
      "15         20\n",
      "11         12\n",
      "14         10\n",
      "12          7\n",
      "24          1\n",
      "Name: tweet, dtype: int64\n",
      "\n",
      "Happy faces\n",
      "Mean: 0.50039625\n",
      "\n",
      " 0     799908\n",
      "1     799787\n",
      "2        189\n",
      "3         56\n",
      "4         32\n",
      "5         13\n",
      "7          7\n",
      "6          5\n",
      "8          2\n",
      "13         1\n",
      "Name: tweet, dtype: int64\n",
      "\n",
      "Sad faces\n",
      "Mean: 0.50000375\n",
      "\n",
      " 0    799999\n",
      "1    799996\n",
      "2         5\n",
      "Name: tweet, dtype: int64\n"
     ]
    },
    {
     "data": {
      "image/png": "[encoded data removed]",
      "text/plain": [
       "<matplotlib.figure.Figure at 0x1389b2a20>"
      ]
     },
     "metadata": {},
     "output_type": "display_data"
    }
   ],
   "source": [
    "# Let's isolate this functionality \n",
    "def pattern_distribution(pattern):\n",
    "    pattern_per_tweet = s.str.count(pattern)\n",
    "    print('Mean:', pattern_per_tweet.mean())\n",
    "    distribution = pattern_per_tweet.value_counts()\n",
    "    print('\\n', distribution)\n",
    "    distribution.plot()\n",
    "\n",
    "# Hashtags\n",
    "print ('Hashtags')\n",
    "pattern_distribution(r'#\\w+')\n",
    "\n",
    "# Happy faces\n",
    "print('\\nHappy faces')\n",
    "pattern_distribution(r':\\)')\n",
    "\n",
    "# Sad faces\n",
    "print('\\nSad faces')\n",
    "pattern_distribution(r':\\(')\n",
    "\n",
    "# TODO improve emoticon regex (ex: multiple parentheses)\n",
    "# this could be a discussion point -- what do you expect w/ this regex + what could be improved? \n",
    "# relate to data leakage -- don't want to be training on leftover emoticons"
   ]
  },
  {
   "cell_type": "code",
   "execution_count": 23,
   "metadata": {
    "collapsed": false
   },
   "outputs": [],
   "source": [
    "# Length (character) distribution\n",
    "# Could improve w/ filtering\n",
    "tweet_lengths = s.str.len()\n",
    "\n",
    "# Bad \n",
    "tweet_lengths.value_counts()\n",
    "\n",
    "# Good\n",
    "bins, values = pd.cut(tweet_lengths, 30, retbins=True)"
   ]
  },
  {
   "cell_type": "code",
   "execution_count": 32,
   "metadata": {
    "collapsed": false
   },
   "outputs": [
    {
     "data": {
      "text/plain": [
       "<matplotlib.axes._subplots.AxesSubplot at 0x132c7e0b8>"
      ]
     },
     "execution_count": 32,
     "metadata": {},
     "output_type": "execute_result"
    },
    {
     "data": {
      "image/png": "[encoded data removed]",
      "text/plain": [
       "<matplotlib.figure.Figure at 0x104606ba8>"
      ]
     },
     "metadata": {},
     "output_type": "display_data"
    }
   ],
   "source": [
    "# Histogram visualization\n",
    "tweet_lengths.plot.hist(30)"
   ]
  },
  {
   "cell_type": "code",
   "execution_count": 35,
   "metadata": {
    "collapsed": true
   },
   "outputs": [],
   "source": [
    "# Length (word) distribution\n",
    "# TODO"
   ]
  },
  {
   "cell_type": "code",
   "execution_count": null,
   "metadata": {
    "collapsed": true
   },
   "outputs": [],
   "source": [
    "# N-grams\n",
    "from sklearn.feature_extraction.text import CountVectorizer\n",
    "\n",
    "# Initialize word vectorizer\n",
    "word_vectorizer = CountVectorizer(ngram_range=(1, 3), analyzer='word')\n",
    "\n",
    "# Create word by document matrix\n",
    "sparse_matrix = word_vectorizer.fit_transform(s) # TODO maybe use subset\n",
    "\n",
    "# View frequency across entire corpus of certain words\n",
    "word_vectorizer.vocabulary_.get('pancakes')\n",
    "\n",
    "# For each word, sum appearances in all documents\n",
    "frequencies = sum(sparse_matrix).toarray()[0]\n",
    "\n",
    "# Store in a dataframe (word : frequency)\n",
    "counts = pd.Series(frequencies, index=word_vectorizer.get_feature_names())\n",
    "\n",
    "# Sort by frequency\n",
    "sorted_counts = counts.sort_values(ascending=False)\n",
    "\n",
    "## TODO would be helpful to do this in plain python first with a toy document\n",
    "## so that they can sort of see what's going on under the hood in a more intuitive way\n",
    "\n",
    "## TODO would be interesting to see how models do as N increases (n-grams)\n",
    "\n",
    "## Explain bag of words model\n",
    "## Explain necessity of TF-IDF "
   ]
  },
  {
   "cell_type": "code",
   "execution_count": 1,
   "metadata": {
    "collapsed": true
   },
   "outputs": [],
   "source": [
    "# Clean text and redo n-gram extraction -- we'll get better words\n",
    "\n",
    "# REMINDER: more text is better\n",
    "\n",
    "# RESOURCES\n",
    "# https://www.kaggle.com/c/word2vec-nlp-tutorial/details/part-1-for-beginners-bag-of-words\n",
    "# https://www.dataquest.io/blog/natural-language-processing-with-python/\n",
    "# http://help.sentiment140.com/for-students/\n",
    "# http://www.laurentluce.com/posts/twitter-sentiment-analysis-using-python-and-nltk/"
   ]
  },
  {
   "cell_type": "code",
   "execution_count": 15,
   "metadata": {
    "collapsed": false
   },
   "outputs": [
    {
     "data": {
      "text/plain": [
       "[<matplotlib.lines.Line2D at 0x10dda4860>]"
      ]
     },
     "execution_count": 15,
     "metadata": {},
     "output_type": "execute_result"
    },
    {
     "data": {
      "image/png": "[encoded data removed]",
      "text/plain": [
       "<matplotlib.figure.Figure at 0x10ddaeac8>"
      ]
     },
     "metadata": {},
     "output_type": "display_data"
    }
   ],
   "source": [
    "import matplotlib.pyplot as plt\n",
    "%matplotlib inline\n",
    "fp_rate, tp_rate, _ = [[ 0.,  0.52657005,  1.], [0.,  0.75751295,  1.], [2, 1, 0]]\n",
    "auc = 449.0\n",
    "auc_roc = 0.615471452529\n",
    "plt.figure()\n",
    "plt.plot(fp_rate, tp_rate, color='darkorange', label='ROC curve (area = 0.615)')\n",
    "plt.plot([0,1], [0,1], color='navy', linestyle='--')"
   ]
  },
  {
   "cell_type": "code",
   "execution_count": null,
   "metadata": {
    "collapsed": true
   },
   "outputs": [],
   "source": []
  }
 ],
 "metadata": {
  "anaconda-cloud": {},
  "kernelspec": {
   "display_name": "Python [conda root]",
   "language": "python",
   "name": "conda-root-py"
  },
  "language_info": {
   "codemirror_mode": {
    "name": "ipython",
    "version": 3
   },
   "file_extension": ".py",
   "mimetype": "text/x-python",
   "name": "python",
   "nbconvert_exporter": "python",
   "pygments_lexer": "ipython3",
   "version": "3.5.2"
  }
 },
 "nbformat": 4,
 "nbformat_minor": 1
}
